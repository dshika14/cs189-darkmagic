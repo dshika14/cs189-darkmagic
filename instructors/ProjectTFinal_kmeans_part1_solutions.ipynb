{
 "cells": [
  {
   "cell_type": "markdown",
   "metadata": {},
   "source": [
    "# Domain-specific task: classifying polymers # \n",
    "\n",
    "In this exercise, you are tasked with performing k-means clustering on dataset of polymer properties. This exercise should give you a practical understanding of how to implement k-means as well as exposure to one flavor of the many kinds of tasks you will be asked to perform in internship settings. It is important to have an appreciation for the \"big picture\" when it come to data science and what you are actually trying to achieve, regardless of domain. We do not expect you to gain a full understanding of polymer properties from this problem alone, but enough to be able to understand to problem given to you. If you think it will help with your understanding of the data, feel free to do some light Googling to better illuminate some of the terminology below. You might need to do some similar self-guided research in a future internship! (The most pertitent polymer properties are highlighted below, for your convenience) \n",
    "\n",
    "<ins>Motivation</ins>: You are working for a materials supplier and your boss needs to know what kind of polymer will work best in a given situation (maybe for a playground slide). It is important that the polymer of choice withstand high temperatures without deforming easily under pressure. A material's ability to resist deformation is measured by its Elastic and Shear Moduli (Elastic being relevant in settings of tension, Shear being relevant in settings of torsion or shearing). The __shear moduli__ will be important here given the way that children will use the slide. Polymers also contain a specific material property known as the __Glass Transition Temperature__. This temperature determines the limit at which the polymer's stiffness (or, ability to resist deformation) breaks down. You know that polymers can typically be described by three categories, delineated most clearly by their degree of cross-linking (i.e. the density of chemical bonds between adjacent molecular polymer strands) and their ability to deform without permament damage:\n",
    "\n",
    "<ul>    \n",
    "<li>Thermosets (high cross-linking, high resistance to deformation)</li>\n",
    "<li>Thermoplastics (no cross-linking, moderate resistance to deformation)</li>\n",
    "<li>Elastomers (low to moderate cross-linking, low resistance to deformation, but no permanent deformation)</li>\n",
    "    \n",
    "</ul>\n",
    "\n",
    "Note that polymers are usually not easily binned into these three categories in the real world since they can often exhibit characteristics of two or all three types.\n",
    "\n",
    "<ins>Task</ins>: Your advisor has a dataset of polymer properties for 43 polymers, but they do not have the names of these polymers or their types (this might be a common case if the materials developed are highly secretive). The dataset includes the following numerical data:\n",
    "\n",
    "<ol>\n",
    "    <li> Shear modulus </li>\n",
    "    <li> Glass transition temperature </li>\n",
    "    <li> Density </li>\n",
    "    <li> Density measurement precision </li>\n",
    "</ol>\n",
    "\n",
    "You are also given 3 categorical variables: \n",
    "\n",
    "<ol> \n",
    "    <li> Whether the polymer melts or burns (a distinguishing factor for thermosets is that they burn rather than melt) </li>\n",
    "    <li> The degree of cross-linking (thermoplastics have no cross-linking, elastomers have low to moderate, and thermosets have high cross-linking) </li>\n",
    "    <li> The degree of elongation (i.e. how far the material can be stretched before deforming permanently)</li> \n",
    "</ol>\n",
    "\n",
    "With only this dataset, __use k-means to systematically separate the data points into some reasonable number of distinct clusters__. The number of clusters may or may not be reflective of the polymer categories given above (thermoset, thermoplastic, or elastomer). \n",
    "\n",
    "(Polymer data was extracted from Hertzberg, et. al, 2013)\n",
    "\n",
    "Run each of the cells below, adding in your own code where required. Write down your answers/comments for the following short answer questions, as well. "
   ]
  },
  {
   "cell_type": "markdown",
   "metadata": {},
   "source": [
    "## Step 1: Data visualization ##\n",
    "\n",
    "Let's take a look at the dataset your boss gave you:"
   ]
  },
  {
   "cell_type": "code",
   "execution_count": 1,
   "metadata": {},
   "outputs": [],
   "source": [
    "import numpy as np\n",
    "import pandas as pd\n",
    "from mpl_toolkits.mplot3d import Axes3D\n",
    "import matplotlib.pyplot as plt\n",
    "import seaborn as sns\n",
    "from sklearn.preprocessing import StandardScaler\n",
    "from sklearn.decomposition import PCA\n",
    "from sklearn.cluster import KMeans\n",
    "import warnings\n",
    "warnings.filterwarnings('ignore')"
   ]
  },
  {
   "cell_type": "code",
   "execution_count": 2,
   "metadata": {},
   "outputs": [],
   "source": [
    "polymers_df = pd.read_csv(\"./PolymersData_NoLabels.csv\")"
   ]
  },
  {
   "cell_type": "markdown",
   "metadata": {},
   "source": [
    "Take a look at the data to get an idea of the structure of the dataset. __Make some comments on the dataset. How many data points are there? Are there any corrections that need to be made (e.g. for missing datapoints)?__"
   ]
  },
  {
   "cell_type": "code",
   "execution_count": 3,
   "metadata": {},
   "outputs": [
    {
     "data": {
      "text/html": [
       "<div>\n",
       "<style scoped>\n",
       "    .dataframe tbody tr th:only-of-type {\n",
       "        vertical-align: middle;\n",
       "    }\n",
       "\n",
       "    .dataframe tbody tr th {\n",
       "        vertical-align: top;\n",
       "    }\n",
       "\n",
       "    .dataframe thead th {\n",
       "        text-align: right;\n",
       "    }\n",
       "</style>\n",
       "<table border=\"1\" class=\"dataframe\">\n",
       "  <thead>\n",
       "    <tr style=\"text-align: right;\">\n",
       "      <th></th>\n",
       "      <th>Glass Transition Temperature (K)</th>\n",
       "      <th>Shear Modulus (MPa)</th>\n",
       "      <th>Density (g/cm^3)</th>\n",
       "      <th>Density Measurement Precision (no. sig figs)</th>\n",
       "      <th>Melt or Burn?</th>\n",
       "      <th>Level of Cross-Linking</th>\n",
       "      <th>Elongation</th>\n",
       "    </tr>\n",
       "  </thead>\n",
       "  <tbody>\n",
       "    <tr>\n",
       "      <th>0</th>\n",
       "      <td>476</td>\n",
       "      <td>1278.8</td>\n",
       "      <td>1.200</td>\n",
       "      <td>2</td>\n",
       "      <td>melt</td>\n",
       "      <td>none</td>\n",
       "      <td>moderate</td>\n",
       "    </tr>\n",
       "    <tr>\n",
       "      <th>1</th>\n",
       "      <td>437</td>\n",
       "      <td>1599.1</td>\n",
       "      <td>1.200</td>\n",
       "      <td>2</td>\n",
       "      <td>burn</td>\n",
       "      <td>high</td>\n",
       "      <td>low</td>\n",
       "    </tr>\n",
       "    <tr>\n",
       "      <th>2</th>\n",
       "      <td>431</td>\n",
       "      <td>2391.3</td>\n",
       "      <td>0.936</td>\n",
       "      <td>3</td>\n",
       "      <td>melt</td>\n",
       "      <td>none</td>\n",
       "      <td>moderate</td>\n",
       "    </tr>\n",
       "    <tr>\n",
       "      <th>3</th>\n",
       "      <td>390</td>\n",
       "      <td>1045.7</td>\n",
       "      <td>1.050</td>\n",
       "      <td>3</td>\n",
       "      <td>melt</td>\n",
       "      <td>none</td>\n",
       "      <td>moderate</td>\n",
       "    </tr>\n",
       "    <tr>\n",
       "      <th>4</th>\n",
       "      <td>387</td>\n",
       "      <td>1222.9</td>\n",
       "      <td>2.000</td>\n",
       "      <td>1</td>\n",
       "      <td>burn</td>\n",
       "      <td>high</td>\n",
       "      <td>low</td>\n",
       "    </tr>\n",
       "    <tr>\n",
       "      <th>5</th>\n",
       "      <td>375</td>\n",
       "      <td>1307.7</td>\n",
       "      <td>2.000</td>\n",
       "      <td>1</td>\n",
       "      <td>burn</td>\n",
       "      <td>high</td>\n",
       "      <td>low</td>\n",
       "    </tr>\n",
       "    <tr>\n",
       "      <th>6</th>\n",
       "      <td>365</td>\n",
       "      <td>1430.0</td>\n",
       "      <td>1.184</td>\n",
       "      <td>4</td>\n",
       "      <td>melt</td>\n",
       "      <td>none</td>\n",
       "      <td>moderate</td>\n",
       "    </tr>\n",
       "    <tr>\n",
       "      <th>7</th>\n",
       "      <td>367</td>\n",
       "      <td>1828.7</td>\n",
       "      <td>2.200</td>\n",
       "      <td>2</td>\n",
       "      <td>burn</td>\n",
       "      <td>high</td>\n",
       "      <td>low</td>\n",
       "    </tr>\n",
       "    <tr>\n",
       "      <th>8</th>\n",
       "      <td>365</td>\n",
       "      <td>500.1</td>\n",
       "      <td>2.100</td>\n",
       "      <td>2</td>\n",
       "      <td>burn</td>\n",
       "      <td>high</td>\n",
       "      <td>low</td>\n",
       "    </tr>\n",
       "    <tr>\n",
       "      <th>9</th>\n",
       "      <td>365</td>\n",
       "      <td>1069.4</td>\n",
       "      <td>1.380</td>\n",
       "      <td>3</td>\n",
       "      <td>melt</td>\n",
       "      <td>none</td>\n",
       "      <td>moderate</td>\n",
       "    </tr>\n",
       "    <tr>\n",
       "      <th>10</th>\n",
       "      <td>339</td>\n",
       "      <td>799.7</td>\n",
       "      <td>1.140</td>\n",
       "      <td>3</td>\n",
       "      <td>burn</td>\n",
       "      <td>high</td>\n",
       "      <td>low</td>\n",
       "    </tr>\n",
       "    <tr>\n",
       "      <th>11</th>\n",
       "      <td>335</td>\n",
       "      <td>942.9</td>\n",
       "      <td>1.140</td>\n",
       "      <td>3</td>\n",
       "      <td>burn</td>\n",
       "      <td>high</td>\n",
       "      <td>low</td>\n",
       "    </tr>\n",
       "    <tr>\n",
       "      <th>12</th>\n",
       "      <td>326</td>\n",
       "      <td>776.6</td>\n",
       "      <td>1.140</td>\n",
       "      <td>3</td>\n",
       "      <td>burn</td>\n",
       "      <td>high</td>\n",
       "      <td>low</td>\n",
       "    </tr>\n",
       "    <tr>\n",
       "      <th>13</th>\n",
       "      <td>327</td>\n",
       "      <td>872.5</td>\n",
       "      <td>1.140</td>\n",
       "      <td>3</td>\n",
       "      <td>burn</td>\n",
       "      <td>high</td>\n",
       "      <td>low</td>\n",
       "    </tr>\n",
       "    <tr>\n",
       "      <th>14</th>\n",
       "      <td>325</td>\n",
       "      <td>967.6</td>\n",
       "      <td>1.140</td>\n",
       "      <td>3</td>\n",
       "      <td>burn</td>\n",
       "      <td>high</td>\n",
       "      <td>low</td>\n",
       "    </tr>\n",
       "    <tr>\n",
       "      <th>15</th>\n",
       "      <td>310</td>\n",
       "      <td>850.2</td>\n",
       "      <td>1.140</td>\n",
       "      <td>3</td>\n",
       "      <td>burn</td>\n",
       "      <td>high</td>\n",
       "      <td>low</td>\n",
       "    </tr>\n",
       "    <tr>\n",
       "      <th>16</th>\n",
       "      <td>315</td>\n",
       "      <td>673.6</td>\n",
       "      <td>0.950</td>\n",
       "      <td>2</td>\n",
       "      <td>melt</td>\n",
       "      <td>none</td>\n",
       "      <td>moderate</td>\n",
       "    </tr>\n",
       "    <tr>\n",
       "      <th>17</th>\n",
       "      <td>318</td>\n",
       "      <td>895.4</td>\n",
       "      <td>1.770</td>\n",
       "      <td>3</td>\n",
       "      <td>burn</td>\n",
       "      <td>high</td>\n",
       "      <td>low</td>\n",
       "    </tr>\n",
       "    <tr>\n",
       "      <th>18</th>\n",
       "      <td>294</td>\n",
       "      <td>1190.2</td>\n",
       "      <td>1.160</td>\n",
       "      <td>3</td>\n",
       "      <td>burn</td>\n",
       "      <td>high</td>\n",
       "      <td>low</td>\n",
       "    </tr>\n",
       "    <tr>\n",
       "      <th>19</th>\n",
       "      <td>294</td>\n",
       "      <td>895.4</td>\n",
       "      <td>1.210</td>\n",
       "      <td>3</td>\n",
       "      <td>burn</td>\n",
       "      <td>high</td>\n",
       "      <td>low</td>\n",
       "    </tr>\n",
       "    <tr>\n",
       "      <th>20</th>\n",
       "      <td>309</td>\n",
       "      <td>756.8</td>\n",
       "      <td>1.140</td>\n",
       "      <td>3</td>\n",
       "      <td>burn</td>\n",
       "      <td>high</td>\n",
       "      <td>low</td>\n",
       "    </tr>\n",
       "    <tr>\n",
       "      <th>21</th>\n",
       "      <td>280</td>\n",
       "      <td>591.8</td>\n",
       "      <td>0.920</td>\n",
       "      <td>2</td>\n",
       "      <td>melt</td>\n",
       "      <td>none</td>\n",
       "      <td>moderate</td>\n",
       "    </tr>\n",
       "    <tr>\n",
       "      <th>22</th>\n",
       "      <td>218</td>\n",
       "      <td>401.5</td>\n",
       "      <td>2.200</td>\n",
       "      <td>2</td>\n",
       "      <td>melt</td>\n",
       "      <td>none</td>\n",
       "      <td>moderate</td>\n",
       "    </tr>\n",
       "    <tr>\n",
       "      <th>23</th>\n",
       "      <td>164</td>\n",
       "      <td>156.1</td>\n",
       "      <td>0.930</td>\n",
       "      <td>2</td>\n",
       "      <td>melt</td>\n",
       "      <td>none</td>\n",
       "      <td>moderate</td>\n",
       "    </tr>\n",
       "    <tr>\n",
       "      <th>24</th>\n",
       "      <td>312</td>\n",
       "      <td>298.1</td>\n",
       "      <td>1.450</td>\n",
       "      <td>3</td>\n",
       "      <td>melt</td>\n",
       "      <td>none</td>\n",
       "      <td>moderate</td>\n",
       "    </tr>\n",
       "    <tr>\n",
       "      <th>25</th>\n",
       "      <td>294</td>\n",
       "      <td>401.5</td>\n",
       "      <td>0.601</td>\n",
       "      <td>3</td>\n",
       "      <td>burn</td>\n",
       "      <td>high</td>\n",
       "      <td>low</td>\n",
       "    </tr>\n",
       "    <tr>\n",
       "      <th>26</th>\n",
       "      <td>300</td>\n",
       "      <td>20.5</td>\n",
       "      <td>1.270</td>\n",
       "      <td>3</td>\n",
       "      <td>melt</td>\n",
       "      <td>none</td>\n",
       "      <td>moderate</td>\n",
       "    </tr>\n",
       "    <tr>\n",
       "      <th>27</th>\n",
       "      <td>293</td>\n",
       "      <td>4.1</td>\n",
       "      <td>1.020</td>\n",
       "      <td>3</td>\n",
       "      <td>melt</td>\n",
       "      <td>moderate</td>\n",
       "      <td>high</td>\n",
       "    </tr>\n",
       "    <tr>\n",
       "      <th>28</th>\n",
       "      <td>273</td>\n",
       "      <td>1.5</td>\n",
       "      <td>0.900</td>\n",
       "      <td>1</td>\n",
       "      <td>melt</td>\n",
       "      <td>low</td>\n",
       "      <td>high</td>\n",
       "    </tr>\n",
       "    <tr>\n",
       "      <th>29</th>\n",
       "      <td>252</td>\n",
       "      <td>2.0</td>\n",
       "      <td>1.270</td>\n",
       "      <td>3</td>\n",
       "      <td>melt</td>\n",
       "      <td>none</td>\n",
       "      <td>moderate</td>\n",
       "    </tr>\n",
       "    <tr>\n",
       "      <th>30</th>\n",
       "      <td>235</td>\n",
       "      <td>2.9</td>\n",
       "      <td>0.920</td>\n",
       "      <td>2</td>\n",
       "      <td>melt</td>\n",
       "      <td>low</td>\n",
       "      <td>high</td>\n",
       "    </tr>\n",
       "    <tr>\n",
       "      <th>31</th>\n",
       "      <td>227</td>\n",
       "      <td>1.9</td>\n",
       "      <td>1.000</td>\n",
       "      <td>1</td>\n",
       "      <td>melt</td>\n",
       "      <td>moderate</td>\n",
       "      <td>high</td>\n",
       "    </tr>\n",
       "    <tr>\n",
       "      <th>32</th>\n",
       "      <td>240</td>\n",
       "      <td>1.5</td>\n",
       "      <td>0.920</td>\n",
       "      <td>2</td>\n",
       "      <td>burn</td>\n",
       "      <td>low</td>\n",
       "      <td>high</td>\n",
       "    </tr>\n",
       "    <tr>\n",
       "      <th>33</th>\n",
       "      <td>238</td>\n",
       "      <td>1.3</td>\n",
       "      <td>0.950</td>\n",
       "      <td>2</td>\n",
       "      <td>melt</td>\n",
       "      <td>low</td>\n",
       "      <td>high</td>\n",
       "    </tr>\n",
       "    <tr>\n",
       "      <th>34</th>\n",
       "      <td>227</td>\n",
       "      <td>1.0</td>\n",
       "      <td>0.930</td>\n",
       "      <td>2</td>\n",
       "      <td>melt</td>\n",
       "      <td>low</td>\n",
       "      <td>high</td>\n",
       "    </tr>\n",
       "    <tr>\n",
       "      <th>35</th>\n",
       "      <td>233</td>\n",
       "      <td>0.8</td>\n",
       "      <td>1.000</td>\n",
       "      <td>1</td>\n",
       "      <td>melt</td>\n",
       "      <td>low</td>\n",
       "      <td>high</td>\n",
       "    </tr>\n",
       "    <tr>\n",
       "      <th>36</th>\n",
       "      <td>225</td>\n",
       "      <td>0.6</td>\n",
       "      <td>0.910</td>\n",
       "      <td>2</td>\n",
       "      <td>melt</td>\n",
       "      <td>low</td>\n",
       "      <td>high</td>\n",
       "    </tr>\n",
       "    <tr>\n",
       "      <th>37</th>\n",
       "      <td>253</td>\n",
       "      <td>1.4</td>\n",
       "      <td>1.080</td>\n",
       "      <td>3</td>\n",
       "      <td>melt</td>\n",
       "      <td>moderate</td>\n",
       "      <td>high</td>\n",
       "    </tr>\n",
       "    <tr>\n",
       "      <th>38</th>\n",
       "      <td>245</td>\n",
       "      <td>0.7</td>\n",
       "      <td>1.240</td>\n",
       "      <td>3</td>\n",
       "      <td>melt</td>\n",
       "      <td>moderate</td>\n",
       "      <td>high</td>\n",
       "    </tr>\n",
       "    <tr>\n",
       "      <th>39</th>\n",
       "      <td>244</td>\n",
       "      <td>0.5</td>\n",
       "      <td>0.910</td>\n",
       "      <td>2</td>\n",
       "      <td>melt</td>\n",
       "      <td>low</td>\n",
       "      <td>high</td>\n",
       "    </tr>\n",
       "    <tr>\n",
       "      <th>40</th>\n",
       "      <td>378</td>\n",
       "      <td>82.7</td>\n",
       "      <td>1.040</td>\n",
       "      <td>3</td>\n",
       "      <td>melt</td>\n",
       "      <td>none</td>\n",
       "      <td>moderate</td>\n",
       "    </tr>\n",
       "    <tr>\n",
       "      <th>41</th>\n",
       "      <td>378</td>\n",
       "      <td>82.7</td>\n",
       "      <td>1.220</td>\n",
       "      <td>3</td>\n",
       "      <td>melt</td>\n",
       "      <td>none</td>\n",
       "      <td>moderate</td>\n",
       "    </tr>\n",
       "    <tr>\n",
       "      <th>42</th>\n",
       "      <td>378</td>\n",
       "      <td>96.5</td>\n",
       "      <td>1.050</td>\n",
       "      <td>3</td>\n",
       "      <td>melt</td>\n",
       "      <td>none</td>\n",
       "      <td>moderate</td>\n",
       "    </tr>\n",
       "    <tr>\n",
       "      <th>43</th>\n",
       "      <td>372</td>\n",
       "      <td>68.9</td>\n",
       "      <td>1.150</td>\n",
       "      <td>3</td>\n",
       "      <td>melt</td>\n",
       "      <td>none</td>\n",
       "      <td>moderate</td>\n",
       "    </tr>\n",
       "  </tbody>\n",
       "</table>\n",
       "</div>"
      ],
      "text/plain": [
       "    Glass Transition Temperature (K)  Shear Modulus (MPa)  Density (g/cm^3)  \\\n",
       "0                                476               1278.8             1.200   \n",
       "1                                437               1599.1             1.200   \n",
       "2                                431               2391.3             0.936   \n",
       "3                                390               1045.7             1.050   \n",
       "4                                387               1222.9             2.000   \n",
       "5                                375               1307.7             2.000   \n",
       "6                                365               1430.0             1.184   \n",
       "7                                367               1828.7             2.200   \n",
       "8                                365                500.1             2.100   \n",
       "9                                365               1069.4             1.380   \n",
       "10                               339                799.7             1.140   \n",
       "11                               335                942.9             1.140   \n",
       "12                               326                776.6             1.140   \n",
       "13                               327                872.5             1.140   \n",
       "14                               325                967.6             1.140   \n",
       "15                               310                850.2             1.140   \n",
       "16                               315                673.6             0.950   \n",
       "17                               318                895.4             1.770   \n",
       "18                               294               1190.2             1.160   \n",
       "19                               294                895.4             1.210   \n",
       "20                               309                756.8             1.140   \n",
       "21                               280                591.8             0.920   \n",
       "22                               218                401.5             2.200   \n",
       "23                               164                156.1             0.930   \n",
       "24                               312                298.1             1.450   \n",
       "25                               294                401.5             0.601   \n",
       "26                               300                 20.5             1.270   \n",
       "27                               293                  4.1             1.020   \n",
       "28                               273                  1.5             0.900   \n",
       "29                               252                  2.0             1.270   \n",
       "30                               235                  2.9             0.920   \n",
       "31                               227                  1.9             1.000   \n",
       "32                               240                  1.5             0.920   \n",
       "33                               238                  1.3             0.950   \n",
       "34                               227                  1.0             0.930   \n",
       "35                               233                  0.8             1.000   \n",
       "36                               225                  0.6             0.910   \n",
       "37                               253                  1.4             1.080   \n",
       "38                               245                  0.7             1.240   \n",
       "39                               244                  0.5             0.910   \n",
       "40                               378                 82.7             1.040   \n",
       "41                               378                 82.7             1.220   \n",
       "42                               378                 96.5             1.050   \n",
       "43                               372                 68.9             1.150   \n",
       "\n",
       "    Density Measurement Precision (no. sig figs) Melt or Burn?  \\\n",
       "0                                              2          melt   \n",
       "1                                              2          burn   \n",
       "2                                              3          melt   \n",
       "3                                              3          melt   \n",
       "4                                              1          burn   \n",
       "5                                              1          burn   \n",
       "6                                              4          melt   \n",
       "7                                              2          burn   \n",
       "8                                              2          burn   \n",
       "9                                              3          melt   \n",
       "10                                             3          burn   \n",
       "11                                             3          burn   \n",
       "12                                             3          burn   \n",
       "13                                             3          burn   \n",
       "14                                             3          burn   \n",
       "15                                             3          burn   \n",
       "16                                             2          melt   \n",
       "17                                             3          burn   \n",
       "18                                             3          burn   \n",
       "19                                             3          burn   \n",
       "20                                             3          burn   \n",
       "21                                             2          melt   \n",
       "22                                             2          melt   \n",
       "23                                             2          melt   \n",
       "24                                             3          melt   \n",
       "25                                             3          burn   \n",
       "26                                             3          melt   \n",
       "27                                             3          melt   \n",
       "28                                             1          melt   \n",
       "29                                             3          melt   \n",
       "30                                             2          melt   \n",
       "31                                             1          melt   \n",
       "32                                             2          burn   \n",
       "33                                             2          melt   \n",
       "34                                             2          melt   \n",
       "35                                             1          melt   \n",
       "36                                             2          melt   \n",
       "37                                             3          melt   \n",
       "38                                             3          melt   \n",
       "39                                             2          melt   \n",
       "40                                             3          melt   \n",
       "41                                             3          melt   \n",
       "42                                             3          melt   \n",
       "43                                             3          melt   \n",
       "\n",
       "   Level of Cross-Linking Elongation  \n",
       "0                    none   moderate  \n",
       "1                    high        low  \n",
       "2                    none   moderate  \n",
       "3                    none   moderate  \n",
       "4                    high        low  \n",
       "5                    high        low  \n",
       "6                    none   moderate  \n",
       "7                    high        low  \n",
       "8                    high        low  \n",
       "9                    none   moderate  \n",
       "10                   high        low  \n",
       "11                   high        low  \n",
       "12                   high        low  \n",
       "13                   high        low  \n",
       "14                   high        low  \n",
       "15                   high        low  \n",
       "16                   none   moderate  \n",
       "17                   high        low  \n",
       "18                   high        low  \n",
       "19                   high        low  \n",
       "20                   high        low  \n",
       "21                   none   moderate  \n",
       "22                   none   moderate  \n",
       "23                   none   moderate  \n",
       "24                   none   moderate  \n",
       "25                   high        low  \n",
       "26                   none   moderate  \n",
       "27               moderate       high  \n",
       "28                    low       high  \n",
       "29                   none   moderate  \n",
       "30                    low       high  \n",
       "31               moderate       high  \n",
       "32                    low       high  \n",
       "33                    low       high  \n",
       "34                    low       high  \n",
       "35                    low       high  \n",
       "36                    low       high  \n",
       "37               moderate       high  \n",
       "38               moderate       high  \n",
       "39                    low       high  \n",
       "40                   none   moderate  \n",
       "41                   none   moderate  \n",
       "42                   none   moderate  \n",
       "43                   none   moderate  "
      ]
     },
     "execution_count": 3,
     "metadata": {},
     "output_type": "execute_result"
    }
   ],
   "source": [
    "#### start_data_exploration ####\n",
    "polymers_df\n",
    "#### end_data_exploration ####"
   ]
  },
  {
   "cell_type": "markdown",
   "metadata": {},
   "source": [
    "#### Start Comments ####\n",
    "Any comments will be welcome here. There are 44 data points, none of which appear to contain missing or erroneous data.  \n",
    "#### End Comments ####"
   ]
  },
  {
   "cell_type": "markdown",
   "metadata": {},
   "source": [
    "Below are a couple of helper functions which we will use throughout this notebook. We also normalize the dataset so that categorical data is represented numerically. Let's plot the shear modulus against the glass transition temperature."
   ]
  },
  {
   "cell_type": "code",
   "execution_count": 4,
   "metadata": {},
   "outputs": [],
   "source": [
    "def plot_data(df, x, y, hue=None, logscale=False):\n",
    "    sns.set_style('whitegrid')\n",
    "    fig = sns.lmplot(x=x, y=y, \n",
    "               data=df, hue=hue, palette='coolwarm',\n",
    "               height=6, aspect=1, fit_reg=False)\n",
    "\n",
    "    ax = fig.axes[0][0]\n",
    "    if logscale:\n",
    "        ax.set_yscale('log')\n",
    "    return\n",
    "\n",
    "def df2np(df, xs):\n",
    "    X = df[xs].to_numpy()\n",
    "    return X\n",
    "\n",
    "cat2num = {'Melt or Burn?' : {'melt' : 0, 'burn' : 1},\n",
    "           'Level of Cross-Linking' : {'none' : 0, 'low' : 1, 'moderate' : 2, 'high' : 3},\n",
    "           'Elongation' : {'low' : 0, 'moderate' : 1, 'high' : 2}}\n",
    "\n",
    "polymers_df_norm = polymers_df.replace(cat2num)"
   ]
  },
  {
   "cell_type": "code",
   "execution_count": 5,
   "metadata": {},
   "outputs": [
    {
     "data": {
      "image/png": "[encoded data removed]",
      "text/plain": [
       "<Figure size 432x432 with 1 Axes>"
      ]
     },
     "metadata": {},
     "output_type": "display_data"
    }
   ],
   "source": [
    "plot_data(df=polymers_df_norm, \n",
    "          x='Glass Transition Temperature (K)', \n",
    "          y='Shear Modulus (MPa)',\n",
    "          logscale=False)"
   ]
  },
  {
   "cell_type": "markdown",
   "metadata": {},
   "source": [
    "This does not give us much intuition in terms of separating data points. However, it looks like there are a group of points clustered at very low shear moduli. Let's try to plot the shear modulus on a log scale:"
   ]
  },
  {
   "cell_type": "code",
   "execution_count": 6,
   "metadata": {},
   "outputs": [
    {
     "data": {
      "image/png": "[encoded data removed]",
      "text/plain": [
       "<Figure size 432x432 with 1 Axes>"
      ]
     },
     "metadata": {},
     "output_type": "display_data"
    }
   ],
   "source": [
    "plot_data(df=polymers_df_norm, \n",
    "          x='Glass Transition Temperature (K)', \n",
    "          y='Shear Modulus (MPa)',\n",
    "          logscale=True)"
   ]
  },
  {
   "cell_type": "markdown",
   "metadata": {},
   "source": [
    "Now we are starting to see some significance in the separation between the data points. There are still several features which we have not utilized, though. __Use the 'plot_data' helper function to produce more plots for this preliminary data exploration.__ (Remember you can plot on a log scale if you think that will help illuminate any trends better).  "
   ]
  },
  {
   "cell_type": "code",
   "execution_count": 7,
   "metadata": {},
   "outputs": [
    {
     "data": {
      "image/png": "[encoded data removed]",
      "text/plain": [
       "<Figure size 432x432 with 1 Axes>"
      ]
     },
     "metadata": {},
     "output_type": "display_data"
    },
    {
     "data": {
      "image/png": "[encoded data removed]",
      "text/plain": [
       "<Figure size 432x432 with 1 Axes>"
      ]
     },
     "metadata": {},
     "output_type": "display_data"
    }
   ],
   "source": [
    "# TODO: use plot_data to plot more features against each other\n",
    "#### start_plotting ####\n",
    "plot_data(df=polymers_df_norm, \n",
    "          x='Density (g/cm^3)', \n",
    "          y='Elongation',\n",
    "          logscale=False)\n",
    "plot_data(df=polymers_df_norm, \n",
    "          x='Density (g/cm^3)', \n",
    "          y='Shear Modulus (MPa)',\n",
    "          logscale=True)\n",
    "#### end_plotting ####"
   ]
  },
  {
   "cell_type": "markdown",
   "metadata": {},
   "source": [
    "__Comment on the visualizations above. What did you plot? Is any of this useful yet for clustering the data points?__\n",
    "\n",
    "#### Start Comments ####\n",
    "\n",
    "Any observation will suffice for this questions. We could potentially see a cluster at the bottom of the Shear Modulus and Density plot and one near the top. But, we want the student to see that it is not necessarily straightforward yet to cluster the data based only on 2D plotting of its raw data. \n",
    "\n",
    "#### End Comments ####"
   ]
  },
  {
   "cell_type": "markdown",
   "metadata": {},
   "source": [
    "Let's use PCA to reduce the dimensionality of the dataset and to isolate the points into regions of high similarity. Note that we are reducing this dataset to two dimensions for now for ease of visualization throughout this notebook, but a more systematic approach should be employed in practice. Run the cell below to see this visualized. "
   ]
  },
  {
   "cell_type": "code",
   "execution_count": 8,
   "metadata": {},
   "outputs": [
    {
     "data": {
      "image/png": "[encoded data removed]",
      "text/plain": [
       "<Figure size 576x576 with 1 Axes>"
      ]
     },
     "metadata": {},
     "output_type": "display_data"
    }
   ],
   "source": [
    "def implement_pca_2d(x):\n",
    "    pca = PCA(n_components=2)\n",
    "    principalComponents = pca.fit_transform(x)\n",
    "    principalDf = pd.DataFrame(data = principalComponents,\n",
    "                               columns = ['principal component 1', 'principal component 2'])\n",
    "    fig = plt.figure(figsize = (8,8))\n",
    "    ax = fig.add_subplot(1,1,1)\n",
    "    ax.scatter(principalDf['principal component 1'], principalDf['principal component 2'], s=50)\n",
    "    ax.grid()\n",
    "    return principalDf\n",
    "\n",
    "features = ['Glass Transition Temperature (K)', 'Shear Modulus (MPa)', 'Density (g/cm^3)', 'Level of Cross-Linking', 'Melt or Burn?', 'Elongation']\n",
    "\n",
    "x = polymers_df_norm.loc[:, features].values\n",
    "x = StandardScaler().fit_transform(x)\n",
    "principalDf = implement_pca_2d(x)"
   ]
  },
  {
   "cell_type": "markdown",
   "metadata": {},
   "source": [
    "Now, we'll map this dataframe to a numpy array for ease of computation for the remainder of the notebook. Run the cell below before moving onto the next part. "
   ]
  },
  {
   "cell_type": "code",
   "execution_count": 9,
   "metadata": {},
   "outputs": [],
   "source": [
    "X = df2np(df=principalDf, xs=['principal component 1', 'principal component 2'])"
   ]
  },
  {
   "cell_type": "markdown",
   "metadata": {},
   "source": [
    "## Step 2: k-Means Implementation"
   ]
  },
  {
   "cell_type": "markdown",
   "metadata": {},
   "source": [
    "Let $X$ denote the set of $N$ data points $\\vec{x_i} \\in \\mathbb{R}^d$. A cluster assignment is a partition $C_1, ..., C_k \\in X$ such that the sets $C_k$ are disjoint and $X = C_1 \\cup ... \\cup C_k$. A data point $\\vec{x_i} \\in X$ is said to belong to cluster $k$ if it is in $C_k$."
   ]
  },
  {
   "cell_type": "markdown",
   "metadata": {},
   "source": [
    "Formally, k-Means solves the following optimization problem: $\\underset{\\{C_k\\}_{k = 1}^{K}, \\{\\vec{c_k}\\}_{k = 1}^{K}: X = C_1 \\cup ... \\cup C_K}{\\arg\\min} \\sum_{k = 1}^{K} \\underset{\\vec{x} \\in C_k}{\\sum} \\|\\vec{x} - \\vec{c_k}\\|^2$ "
   ]
  },
  {
   "cell_type": "markdown",
   "metadata": {},
   "source": [
    "More informally, k-Means is trying to find the best cluster centers & assignments that maximize the distance between clusters and minimize the size of each cluster. In other words, we want to find clusters that are as far apart (distinct) from each other as possible, while making sure that all the points in a cluster are pretty close to each other. \n",
    "\n",
    "Solving this optimization problem directly is NP-hard (i.e. computationally very difficult). Instead, we use Lloyd's Algorithm: \n",
    "1. Pick some K representing the number of groups you wish to cluster your datset into\n",
    "2. Randomly initialize $\\vec{c_k}, k = 1,...,K$\n",
    "3. While $\\vec{c_k}$ keeps changing (k-Means has not converged): \n",
    "    * Update partition $C_1 \\cup ... \\cup C_k$ given by the $\\vec{c_k}$ by assigning each $\\vec{x_i} \\in X$ to the cluster represented by its nearest centroid: $\\underset{k}{\\arg\\min} \\|\\vec{x} - \\vec{c_k}\\|^2$\n",
    "    * Update centroid $\\vec{c_k}$ given $C_1 \\cup ... \\cup C_k$ as $\\vec{c_k} = \\frac{1}{\\lvert {C_k} \\rvert} \\sum_{\\vec{x} \\in C_k} \\vec{x}$\n",
    "\n",
    "This algorithm will always converge to some value because each step in (3) is guaranteed to not increase the value of the objective function. This two-step algorithm can be implemented using the help of two functions: \n",
    "1. assign_clusters: given a set of clusters, assign each data point to the best cluster\n",
    "2. update_means: given a set of cluster assignments, compute the new best cluster center (a.k.a. centroid)\n",
    "\n",
    "#### TODO: complete the implementations of assign_clusters and update_means below"
   ]
  },
  {
   "cell_type": "code",
   "execution_count": 10,
   "metadata": {},
   "outputs": [],
   "source": [
    "def assign_clusters(X, c): \n",
    "    \"\"\"\n",
    "    Takes in an (n x d) data matrix X, and a (k x d) matrix of the centroids c. \n",
    "    Returns a length-n vector with the index of the closest centroid to each data point.\n",
    "    \"\"\"\n",
    "    n, d = X.shape\n",
    "    k = c.shape[0]\n",
    "    assert d == c.shape[1], \"Centroids are of the wrong shape\"\n",
    "    assignments = np.zeros(n)\n",
    "    for i, point in enumerate(X): \n",
    "        #TODO: Set assignments[i] to be the index of the centroid who is closest to the current point\n",
    "        ### start assign_cluster ###\n",
    "        ############################\n",
    "        assignments[i] = min(range(k), key = lambda j: np.linalg.norm(point - c[j]))\n",
    "        ###########################\n",
    "        ### end assign_cluster ###\n",
    "    return assignments\n",
    "\n",
    "def update_means(X, assignments): \n",
    "    \"\"\"\n",
    "    Takes in an (n x d) data matrix X, and a length-n vector of\n",
    "    the cluster indices of each point.\n",
    "    Computes the mean of each cluster and returns a (k x d) matrix of the centroids.\n",
    "    \"\"\"\n",
    "    n, d = X.shape\n",
    "    assert len(assignments) == n\n",
    "    k = len(set(assignments))\n",
    "    centroids = []\n",
    "    for i in range(k): \n",
    "        #TODO: set centroid_i to be the mean of all points in cluster 'i'\n",
    "        ### start update_means ###\n",
    "        cluster_points = X[assignments == i]\n",
    "        centroid_i = np.mean(cluster_points, axis = 0)\n",
    "        ### end update_means ###\n",
    "        centroids.append(centroid_i)\n",
    "    return np.array(centroids)"
   ]
  },
  {
   "cell_type": "markdown",
   "metadata": {},
   "source": [
    "Along with assign_clusters and update_means, we need a few other helper functions to have a working k-Means implementation: \n",
    "1. initialize_centroids: this will randomly pick k number of data points to serve as the initial centroids to pass into assign_clusters to kickstart the algorithm. \n",
    "2. cost: unlike supervised learning problems where we can measure training error by calculating the distance between our model output and the true output, unsupervised learning does not have the same luxury. We actually don't have access to the true clusters that the data points belong to, so we have to come up with a different measure of how well or poor our clustering is. For this demo, we will use the summ of squared distance of each data point to its centroid as a measure of cost. \n",
    "\n",
    "#### TODO: Complete the implementations of initialize_centroids and cost below"
   ]
  },
  {
   "cell_type": "code",
   "execution_count": 11,
   "metadata": {},
   "outputs": [],
   "source": [
    "def initialize_centroids(X, k): \n",
    "    \"\"\"\n",
    "    Takes in an (n x d) data matrix X, and employs forgy initialization, where the initialized centroids are\n",
    "    randomly chosen from the input data set. \n",
    "    \"\"\"\n",
    "    n, d = X.shape\n",
    "    #TODO: Set centroids to be k randomly picked data points from X\n",
    "    ### start initialize_centroids ###\n",
    "    ##################################\n",
    "    np.random.seed(0)\n",
    "    centroids = X[np.random.choice(n, k, replace = False)]\n",
    "    ################################\n",
    "    ### end initialize_centroids ###\n",
    "    return centroids\n",
    "\n",
    "def cost(X, assignments, centroids): \n",
    "    \"\"\"\n",
    "    Computes the sum of the squared distance between each point\n",
    "    and the mean of its associated cluster. \n",
    "    Remember: k-Means seeks to minimize intra-cluster distance \n",
    "    and maximize inter-cluster distance.\n",
    "    \"\"\"\n",
    "    total_cost = 0\n",
    "    n, d = X.shape\n",
    "    k = centroids.shape[0]\n",
    "    assert centroids.shape[1] == d\n",
    "    assert len(assignments) == n\n",
    "    for i in range(k): \n",
    "        #TODO: set cost_i to be the sum of squared distance from all points in cluster 'i' to centroid 'i'\n",
    "        ### start cost ###\n",
    "        ##################\n",
    "        cost_i = np.linalg.norm(X[assignments == i] - centroids[i])**2\n",
    "        ################\n",
    "        ### end cost ###\n",
    "        total_cost += cost_i\n",
    "    return total_cost"
   ]
  },
  {
   "cell_type": "markdown",
   "metadata": {},
   "source": [
    "Finally, we want to put together all of the functions above to gives us a working K-Means implementation. \n",
    "#### TODO: Complete the function below to run through Lloyd's algorithm and call each of the above functions individually."
   ]
  },
  {
   "cell_type": "code",
   "execution_count": 12,
   "metadata": {},
   "outputs": [],
   "source": [
    "def k_means(X, k): \n",
    "    \"\"\"\n",
    "    Take in an (n x d) data matrix X and a parameter 'k' representing the number of clusters. \n",
    "    Yields the centroids and cluster assignments after each step \n",
    "    of running k-means in a 2-tuple.\n",
    "    \"\"\"\n",
    "    n, d = X.shape\n",
    "    centroids = initialize_centroids(X, k)\n",
    "    assignments = assign_clusters(X, centroids)\n",
    "    \n",
    "    steps = []\n",
    "    \n",
    "    while True: \n",
    "        #TODO:\n",
    "        #1. Append the current (centroid, assignments) to the steps array\n",
    "        #2. Determine the new centroids & new assignments\n",
    "        #3. Check the stopping condition to break the while loop\n",
    "        #4. If the stopping condition is satisfied, break the while loop & report the error associated\n",
    "        #with the current (centroids, assignments) pair\n",
    "        ### start k_means ###\n",
    "        ##################\n",
    "        steps.append((centroids, assignments))\n",
    "        centroids = update_means(X, assignments)\n",
    "        new_assignments = assign_clusters(X, centroids)\n",
    "        if np.all(assignments == new_assignments): \n",
    "            steps.append((centroids, assignments))\n",
    "            error = cost(X, assignments, centroids)\n",
    "            break\n",
    "        assignments = new_assignments\n",
    "        ################\n",
    "        ### end k_means ###\n",
    "    \n",
    "    return steps, error"
   ]
  },
  {
   "cell_type": "markdown",
   "metadata": {},
   "source": [
    "We've also included a few more functions that will help us visualize our results. No need to modify any of the functions below. "
   ]
  },
  {
   "cell_type": "code",
   "execution_count": 13,
   "metadata": {},
   "outputs": [],
   "source": [
    "def final_k_means_cluster(X, k): \n",
    "    steps, cost = k_means(X, k)\n",
    "    return steps[-1][0], steps[-1][1], cost\n",
    "\n",
    "def plot_clustering(X, centroids, assignments): \n",
    "    k = len(centroids)\n",
    "    for j in range(k): \n",
    "        plt.scatter(*X[assignments == j].T)\n",
    "    plt.scatter(*centroids.T, marker='x', s = 240, c = 'black')\n",
    "    plt.show()\n",
    "\n",
    "def interact_clustering(X, logger): \n",
    "    history = list(logger)\n",
    "    k = history[0][0].shape[0]\n",
    "    \n",
    "    def plotter(i): \n",
    "        plot_clustering(X, *history[i])\n",
    "    \n",
    "    interact(plotter, i = IntSlider(min=0, max=len(history) - 1, continuous_update = False))\n",
    "\n",
    "def demo(classes, history= False): \n",
    "    for c in classes: \n",
    "        plt.scatter(*c.T)\n",
    "    plt.show()\n",
    "    \n",
    "    points = np.vstack(classes)\n",
    "    \n",
    "    if history: \n",
    "        interact_clustering(points, k_means_cluster(points, len(classes)))\n",
    "    else: \n",
    "        centroids, assignments = final_k_means_cluster(points, len(classes))\n",
    "        plot_clustering(points, centroids, assignments)"
   ]
  },
  {
   "cell_type": "markdown",
   "metadata": {},
   "source": [
    "Before we can continue, we should make sure that our implementation is working properly. Let's compare the results of our k-Means implementation with Sklearn's implementation on our dataset X projected onto its first 2 principal components. This way, we can actually visualize the clusters in 2D space. If we were to work with the raw dataset in dimensions greater than 3, we couldn't visualize the clusters & would have to rely on our measure of cost to determine how effective the clusters were. \n",
    "\n",
    "#### TODO: Referencing the documentation for the sklearn implementation of K-Means, fill in the necessary code into the following helper function"
   ]
  },
  {
   "cell_type": "code",
   "execution_count": 14,
   "metadata": {},
   "outputs": [],
   "source": [
    "def package_implementation(X, k):\n",
    "    \"\"\"\n",
    "    Takes in an (n x d) matrix X and a parameter 'k' representing the number of clusters. \n",
    "    Returns the final (centroid, assignments) tuple.\n",
    "    \"\"\"\n",
    "    #TODO: set the centroids, assignments and cost variables of the function\n",
    "    kmeans = KMeans(n_clusters=k, n_init=1, init=initialize_centroids(X, k)).fit(X)\n",
    "    ### start package_implementation ###\n",
    "    ####################################\n",
    "    assignments = kmeans.labels_\n",
    "    centroids = kmeans.cluster_centers_\n",
    "    cost = kmeans.inertia_\n",
    "    ##################################\n",
    "    ### end package_implementation ###\n",
    "    \n",
    "    return (centroids, assignments, cost)"
   ]
  },
  {
   "cell_type": "code",
   "execution_count": 15,
   "metadata": {},
   "outputs": [
    {
     "name": "stdout",
     "output_type": "stream",
     "text": [
      "19.413469294094273\n"
     ]
    },
    {
     "data": {
      "image/png": "[encoded data removed]",
      "text/plain": [
       "<Figure size 432x288 with 1 Axes>"
      ]
     },
     "metadata": {},
     "output_type": "display_data"
    }
   ],
   "source": [
    "centroids_1, assignments_1, total_distance_cost_1 = final_k_means_cluster(X, k=5)\n",
    "print(total_distance_cost_1)\n",
    "plot_clustering(X, centroids_1, assignments_1)"
   ]
  },
  {
   "cell_type": "code",
   "execution_count": 16,
   "metadata": {},
   "outputs": [
    {
     "name": "stdout",
     "output_type": "stream",
     "text": [
      "19.41346929409427\n"
     ]
    },
    {
     "data": {
      "image/png": "[encoded data removed]",
      "text/plain": [
       "<Figure size 432x288 with 1 Axes>"
      ]
     },
     "metadata": {},
     "output_type": "display_data"
    }
   ],
   "source": [
    "centroids_2, assignments_2, total_distance_cost_2 = package_implementation(X, k=5)\n",
    "print(total_distance_cost_2)\n",
    "plot_clustering(X, centroids_2, assignments_2)"
   ]
  },
  {
   "cell_type": "code",
   "execution_count": 17,
   "metadata": {},
   "outputs": [
    {
     "name": "stdout",
     "output_type": "stream",
     "text": [
      "Centroids are equal: True\n",
      "Assignments are equal: True\n",
      "Costs are equal: False\n"
     ]
    }
   ],
   "source": [
    "print(f'Centroids are equal: {(centroids_1.tolist().sort() == centroids_2.tolist().sort())}')\n",
    "print(f'Assignments are equal: {assignments_1.tolist() == assignments_2.tolist()}')\n",
    "print(f'Costs are equal: {total_distance_cost_1 == total_distance_cost_2}')"
   ]
  },
  {
   "cell_type": "markdown",
   "metadata": {},
   "source": [
    "Did your prediction match the results of the demo? Why or why not? \n",
    "#### Start Comments ####\n",
    "\n",
    "Yes, the predictions match because we ensure that both K-Means implementations are seeded with the right randomization to return the same initial centroids. The rest of the algorithm should be exactly the same between the two implementations. \n",
    "\n",
    "#### End Comments ####"
   ]
  },
  {
   "cell_type": "markdown",
   "metadata": {},
   "source": [
    "## Step 3: Tuning our k-Means Implementation"
   ]
  },
  {
   "cell_type": "markdown",
   "metadata": {},
   "source": [
    "There are many things we could do to adjust our k-Means implementation to get different clustering results. We'll focus on two different tactics for finding the best parameters to feed into our k-Means implementation: \n",
    "1. The number of clusters, K: this will determine how many classes we're left with after our data is clustered. Traditionally, this is either picked using domain knowledge, cross-validation, or a little bit of both. \n",
    "2. The dimensionality of data: we can choose to either pass in the raw data, or we can reduce the dimensions of the data. Sometimes, reducing the dimensionality can yield much better clusters because we're only concerning ourselves with the most important components of the data. We saw earlier that projecting the data onto its first two principal components made the data visualization look really different. We can see how clustering might change if we change the number of principal components we project onto. \n",
    "\n",
    "Let's explore a how changing the target number of clusters would change the outcome of our implementation. \n",
    "\n",
    "What range for K would be appropriate for this hyperparameter tuning task? \n",
    "\n",
    "#### Start Answer ####\n",
    "\n",
    "There is no correct interpretation here, but a sample answer might be: K → [2, 10].\n",
    "\n",
    "#### End Answer ####"
   ]
  },
  {
   "cell_type": "markdown",
   "metadata": {},
   "source": [
    "A good sanity check would be to look at the clusters created for different values of k.\n",
    "\n",
    "#### TODO: change num_clusters to visualize the output of k-Means for different values of k when projecting onto d=2 dimensions."
   ]
  },
  {
   "cell_type": "code",
   "execution_count": 18,
   "metadata": {},
   "outputs": [
    {
     "data": {
      "image/png": "[encoded data removed]",
      "text/plain": [
       "<Figure size 432x288 with 1 Axes>"
      ]
     },
     "metadata": {},
     "output_type": "display_data"
    }
   ],
   "source": [
    "num_clusters = 5\n",
    "centroids, assignments, total_distance_cost = final_k_means_cluster(X, k=num_clusters)\n",
    "plot_clustering(X, centroids, assignments)"
   ]
  },
  {
   "cell_type": "markdown",
   "metadata": {},
   "source": [
    "In many cases, the number of dimensions, d, would be another tuneable hyperparameter. However, we can't perform the same sanity check to look at which projections give us the best clusters because we can't visualize dimensions beyond 3D. Typically, in practice, it's difficult to determine which dimension to project the data into and many data scientists often do this by trial and error. For the purposes of our project, your boss tells you to work in 3 dimensions so that you can easily visualize the different clusters that form. \n",
    "\n",
    "#### TODO: pick values for max_k."
   ]
  },
  {
   "cell_type": "code",
   "execution_count": 19,
   "metadata": {},
   "outputs": [],
   "source": [
    "max_k = 10\n",
    "prospective_k = range(1, max_k + 1)\n",
    "\n",
    "d = 3"
   ]
  },
  {
   "cell_type": "code",
   "execution_count": 20,
   "metadata": {},
   "outputs": [],
   "source": [
    "def perform_k_means(k, d, X): \n",
    "    pca = PCA(n_components=d)\n",
    "    principalComponents = pca.fit_transform(X)\n",
    "    return final_k_means_cluster(principalComponents, k=k)\n",
    "\n",
    "def plot_clustering_d(X, d, centroids, assignments): \n",
    "    pca = PCA(n_components=d)\n",
    "    principalComponents = pca.fit_transform(X)\n",
    "    k = len(centroids)\n",
    "    fig = plt.figure()\n",
    "    ax = fig.add_subplot(111, projection='3d')\n",
    "    for j in range(k): \n",
    "        ax.scatter(*principalComponents[assignments == j].T)\n",
    "    ax.scatter(*centroids.T, marker='x', s = 240, c = 'black')\n",
    "    plt.show()\n",
    "    \n",
    "\n",
    "def validation(arr_k, d, X): \n",
    "    all_centroids = []\n",
    "    all_assignments = []\n",
    "    all_costs = np.zeros((len(arr_k)))\n",
    "    for i in range(0, len(arr_k)): \n",
    "        centroids, assignments, total_distance_cost = perform_k_means(arr_k[i], d, X)\n",
    "        all_centroids.append(centroids)\n",
    "        all_assignments.append(assignments)\n",
    "        all_costs[i] = total_distance_cost\n",
    "    \n",
    "    return all_costs, all_centroids, all_assignments\n",
    "    "
   ]
  },
  {
   "cell_type": "code",
   "execution_count": 21,
   "metadata": {
    "scrolled": true
   },
   "outputs": [],
   "source": [
    "costs, centroids, assignments = validation(prospective_k, d, x)"
   ]
  },
  {
   "cell_type": "markdown",
   "metadata": {},
   "source": [
    "Typically, when we pick hyperparameters in supervised learning problems, we would separate our dataset into training & validation sets, then test the model created from the training set with different hyperparameters on the validation set. We expect to see a parabola-shaped validation error graph and we pick the hyperparameters that minimize this graph. However, this is not possible with an unsupervised learning problem like K-Means because we do not have any ground truth labels to compare against. Instead, our cost function will always decline as the number of clusters increases because more clusters will always decrease the distance from a data point to its nearest cluster. Therefore, to prevent overfitting to the dataset, data scientists will typically choose the cluster number at the \"elbow\" of the cost graph. The elbow method is a heuristic used to pick the best cluster size to choose a point where the diminishing returns of more clusters are no longer worth the additional cost. \n",
    "\n",
    "#### TODO: Plot the costs against all the prospective k values"
   ]
  },
  {
   "cell_type": "code",
   "execution_count": 22,
   "metadata": {},
   "outputs": [
    {
     "data": {
      "text/plain": [
       "[<matplotlib.lines.Line2D at 0x7fafd37f2670>]"
      ]
     },
     "execution_count": 22,
     "metadata": {},
     "output_type": "execute_result"
    },
    {
     "data": {
      "image/png": "[encoded data removed]",
      "text/plain": [
       "<Figure size 432x288 with 1 Axes>"
      ]
     },
     "metadata": {},
     "output_type": "display_data"
    }
   ],
   "source": [
    "plt.plot(prospective_k, costs)"
   ]
  },
  {
   "cell_type": "markdown",
   "metadata": {},
   "source": [
    "Based on the results above, what is the optimal value of k? Also, report the min and max costs of clustering. \n",
    "\n",
    "#### Start Answer ####\n",
    "\n",
    "The optimal value of k looks to be close to 4, which represents the elbow of the graph. The min cost of 13.094 is at k = 9, and the max cost of 237.455 is at k = 1. \n",
    "\n",
    "#### End Answer ####"
   ]
  },
  {
   "cell_type": "markdown",
   "metadata": {},
   "source": [
    "You take your findings to your boss. They tell you they just received more information about the polymers contained in the dataset you've been working with. This set of polymers is guaranteed to fall into 3 different categories: thermosets, thermoplastics, and elastomers. Based on this information, does your choice of the number of clusters change? \n",
    "\n",
    "#### Start Answer ####\n",
    "\n",
    "Yes, based on the domain knowledge provided, we can conclude that the true number of clusters is 3.\n",
    "\n",
    "#### End Answer ####"
   ]
  },
  {
   "cell_type": "markdown",
   "metadata": {},
   "source": [
    "You can visualize the reduced data with the confirmed number of cluster assignments below in 3 dimensions. If you would like to interact with the 3D plot, feel free to uncomment the relevant line below"
   ]
  },
  {
   "cell_type": "code",
   "execution_count": 23,
   "metadata": {},
   "outputs": [
    {
     "data": {
      "image/png": "[encoded data removed]",
      "text/plain": [
       "<Figure size 432x288 with 1 Axes>"
      ]
     },
     "metadata": {},
     "output_type": "display_data"
    }
   ],
   "source": [
    "#TODO: Fill in the value for best_k to visualize the clustering.\n",
    "# %matplotlib qt UNCOMMENT THIS LINE TO INTERACT WITH THE 3-D GRAPH (zoom in/out, rotate, etc)\n",
    "best_k = 3\n",
    "plot_clustering_d(x, 3, centroids[best_k-1], assignments[best_k-1])"
   ]
  },
  {
   "cell_type": "markdown",
   "metadata": {},
   "source": [
    "After you finished implementing your k-Means algorithm, your boss realized they gave you the wrong file! They actually have a more detailed dataset that includes the polymer type labels. They ask you to plot out this new dataset in a similar fashion to the 3D plot you provided above, just to see if your implementation uncovered the true clusterings. __Run the code cell below and compare the results from your clustering implementation to the labeled dataset__."
   ]
  },
  {
   "cell_type": "code",
   "execution_count": 24,
   "metadata": {},
   "outputs": [
    {
     "data": {
      "image/png": "[encoded data removed]",
      "text/plain": [
       "<Figure size 432x288 with 1 Axes>"
      ]
     },
     "metadata": {},
     "output_type": "display_data"
    }
   ],
   "source": [
    "polymers_df_labeled = pd.read_csv(\"./PolymersData.csv\")\n",
    "\n",
    "polymers_df_labeled_norm = polymers_df_labeled.replace(cat2num)\n",
    "x_labeled = polymers_df_labeled_norm.loc[:, features].values\n",
    "x_labeled = StandardScaler().fit_transform(x)\n",
    "pca = PCA(n_components=3)\n",
    "principalComponents = pca.fit_transform(x)\n",
    "principalDf_labeled = pd.DataFrame(data = principalComponents,\n",
    "                          columns = ['principal component 1', 'principal component 2', 'principal component 3'])\n",
    "\n",
    "trueDf = pd.concat([principalDf_labeled, polymers_df_labeled[['Polymer Type']]], axis=1)\n",
    "\n",
    "targets = ['thermoset', 'thermoplastic', 'elastomer']\n",
    "colors = ['r', 'g', 'b']\n",
    "fig = plt.figure()\n",
    "ax = fig.add_subplot(111, projection='3d')\n",
    "for target, color in zip(targets, colors): \n",
    "    indicesToKeep = trueDf['Polymer Type'] == target\n",
    "    ax.scatter(trueDf.loc[indicesToKeep, 'principal component 1'],\n",
    "               trueDf.loc[indicesToKeep, 'principal component 2'],\n",
    "               trueDf.loc[indicesToKeep, 'principal component 3'],\n",
    "               c = color)\n",
    "ax.legend(targets)\n",
    "plt.show()"
   ]
  },
  {
   "cell_type": "markdown",
   "metadata": {},
   "source": [
    "Congratulations! You've made it to the end of Part 1 of the project. This notebook was intended to help you understand how K-Means would be implemented in an industry setting from end-to-end: \n",
    "1. Loading & cleaning the dataset\n",
    "2. Visualizing the data\n",
    "3. Implementing K-Means\n",
    "4. Tuning the hyperparameters associated with the clustering model. \n",
    "\n",
    "Now, please move on to Part 2 of the project where you will get to explore the ins and outs of K-Means more in-depth with some toy examples. \n",
    "\n",
    "(Credit for some of the code above is extended to the contributors to the CS189 discussion notes for clustering: https://www.eecs189.org/static/discussions/dis9.pdf?fbclid=IwAR2oE4djIUQW3sYfkDTw3RaMqtZOy-pno4O_9_wQOiEgim1LLBpxAGfxcfo)"
   ]
  }
 ],
 "metadata": {
  "kernelspec": {
   "display_name": "Python 3",
   "language": "python",
   "name": "python3"
  },
  "language_info": {
   "codemirror_mode": {
    "name": "ipython",
    "version": 3
   },
   "file_extension": ".py",
   "mimetype": "text/x-python",
   "name": "python",
   "nbconvert_exporter": "python",
   "pygments_lexer": "ipython3",
   "version": "3.8.1"
  }
 },
 "nbformat": 4,
 "nbformat_minor": 4
}
