{
 "cells": [
  {
   "cell_type": "markdown",
   "metadata": {},
   "source": [
    "# Domain-specific task: classifying polymers # \n",
    "\n",
    "In this exercise, you are tasked with performing k-means clustering on dataset of polymer properties. This exercise should give you a practical understanding of how to implement k-means as well as exposure to one flavor of the many kinds of tasks you will be asked to perform in internship settings. It is important to have an appreciation for the \"big picture\" when it come to data science and what you are actually trying to achieve, regardless of domain.\n",
    "\n",
    "<ins>Motivation</ins>: You are working for a materials supplier and your boss needs to know what kind of polymer will work best in a given situation (maybe for a playground slide). It is important that the polymer of choice withstand high temperatures without deforming easily under pressure. A material's ability to resist deformation is measured by its Elastic and Shear Moduli (Elastic being relevant in settings of tension, Shear being relevant in settings of torsion or shearing). Shearing will be important here given the way that children will use the slide. Polymers also contain a specific material property known as the Glass Transition Temperature. This temperature determines the limit at which the polymer's stiffness (or, ability to resist deformation) breaks down. You know that polymers typically come in three categories, described by their degree of cross-linking (i.e. the density of chemical bonds between adjacent molecular polymer strands) and their ability to deform without permament damage):\n",
    "\n",
    "<ul>    \n",
    "<li>Thermosets (high cross-linking, high resistance to deformation)</li>\n",
    "<li>Thermoplastics (no cross-linking, moderate resistance to deformation)</li>\n",
    "<li>Elastomers (low to moderate cross-linking, low resistance to deformation, but no permanent deformation)</li>\n",
    "    \n",
    "</ul>\n",
    "\n",
    "<ins>Task</ins>: Your advisor has a dataset of polymers, but he does not have the names of these polymers or their types (this might be a common case if the materials developed are highly secretive). The dataset includes the values of their shear moduli, glass transition temperature, density, the precision of the density measurements, and 3 categorical variables: (1) whether the polymer melts or burns (a distinguishing factor for thermosets is that they burn rather than melt), (2) the degree of cross-linking (thermoplastics have no cross-linking, elastomers have low to moderate, and thermosets have high cross-linking), and (3) the degree of elongation (i.e. how far the material can be stretched before deforming permanently). With only this dataset, use k-means to systematically separate the data points into three categories: thermosets, thermoplastics, and elastomers.   "
   ]
  },
  {
   "cell_type": "markdown",
   "metadata": {},
   "source": [
    "## Step 1: Data visualization ##\n",
    "\n",
    "Let's take a look at the dataset your boss gave you:"
   ]
  },
  {
   "cell_type": "code",
   "execution_count": 126,
   "metadata": {},
   "outputs": [],
   "source": [
    "import numpy as np\n",
    "import pandas as pd\n",
    "import matplotlib.pyplot as plt\n",
    "import seaborn as sns\n",
    "from sklearn.preprocessing import StandardScaler\n",
    "from sklearn.decomposition import PCA\n",
    "from sklearn.cluster import KMeans\n",
    "from prettytable import PrettyTable\n",
    "import warnings\n",
    "warnings.filterwarnings('ignore')"
   ]
  },
  {
   "cell_type": "code",
   "execution_count": 2,
   "metadata": {},
   "outputs": [],
   "source": [
    "polymers_df = pd.read_csv(\"./PolymersData.csv\")"
   ]
  },
  {
   "cell_type": "code",
   "execution_count": 3,
   "metadata": {},
   "outputs": [
    {
     "data": {
      "text/html": [
       "<div>\n",
       "<style scoped>\n",
       "    .dataframe tbody tr th:only-of-type {\n",
       "        vertical-align: middle;\n",
       "    }\n",
       "\n",
       "    .dataframe tbody tr th {\n",
       "        vertical-align: top;\n",
       "    }\n",
       "\n",
       "    .dataframe thead th {\n",
       "        text-align: right;\n",
       "    }\n",
       "</style>\n",
       "<table border=\"1\" class=\"dataframe\">\n",
       "  <thead>\n",
       "    <tr style=\"text-align: right;\">\n",
       "      <th></th>\n",
       "      <th>Polymer Name</th>\n",
       "      <th>Polymer Type</th>\n",
       "      <th>Glass Transition Temperature (K)</th>\n",
       "      <th>Reduced Glass Transition Temperature (293/T_g)</th>\n",
       "      <th>Shear Modulus (MPa)</th>\n",
       "      <th>Density (g/cm^3)</th>\n",
       "      <th>Density Measurement Precision (no. sig figs)</th>\n",
       "      <th>Melt or Burn?</th>\n",
       "      <th>Level of Cross-Linking</th>\n",
       "      <th>Elongation</th>\n",
       "    </tr>\n",
       "  </thead>\n",
       "  <tbody>\n",
       "    <tr>\n",
       "      <th>0</th>\n",
       "      <td>Polyvinyl-carbazol</td>\n",
       "      <td>thermoplastic</td>\n",
       "      <td>476</td>\n",
       "      <td>0.615</td>\n",
       "      <td>1278.8</td>\n",
       "      <td>1.200</td>\n",
       "      <td>2</td>\n",
       "      <td>melt</td>\n",
       "      <td>none</td>\n",
       "      <td>moderate</td>\n",
       "    </tr>\n",
       "    <tr>\n",
       "      <th>1</th>\n",
       "      <td>Polycarbonate</td>\n",
       "      <td>thermoset</td>\n",
       "      <td>437</td>\n",
       "      <td>0.671</td>\n",
       "      <td>1599.1</td>\n",
       "      <td>1.200</td>\n",
       "      <td>2</td>\n",
       "      <td>burn</td>\n",
       "      <td>high</td>\n",
       "      <td>low</td>\n",
       "    </tr>\n",
       "    <tr>\n",
       "      <th>2</th>\n",
       "      <td>Polychloromethacrylate</td>\n",
       "      <td>thermoplastic</td>\n",
       "      <td>431</td>\n",
       "      <td>0.679</td>\n",
       "      <td>2391.3</td>\n",
       "      <td>0.936</td>\n",
       "      <td>3</td>\n",
       "      <td>melt</td>\n",
       "      <td>none</td>\n",
       "      <td>moderate</td>\n",
       "    </tr>\n",
       "    <tr>\n",
       "      <th>3</th>\n",
       "      <td>Polystyrene</td>\n",
       "      <td>thermoplastic</td>\n",
       "      <td>390</td>\n",
       "      <td>0.752</td>\n",
       "      <td>1045.7</td>\n",
       "      <td>1.050</td>\n",
       "      <td>3</td>\n",
       "      <td>melt</td>\n",
       "      <td>none</td>\n",
       "      <td>moderate</td>\n",
       "    </tr>\n",
       "    <tr>\n",
       "      <th>4</th>\n",
       "      <td>Polymethacrylsauremethylester</td>\n",
       "      <td>thermoset</td>\n",
       "      <td>387</td>\n",
       "      <td>0.756</td>\n",
       "      <td>1222.9</td>\n",
       "      <td>2.000</td>\n",
       "      <td>1</td>\n",
       "      <td>burn</td>\n",
       "      <td>high</td>\n",
       "      <td>low</td>\n",
       "    </tr>\n",
       "  </tbody>\n",
       "</table>\n",
       "</div>"
      ],
      "text/plain": [
       "                    Polymer Name   Polymer Type  \\\n",
       "0             Polyvinyl-carbazol  thermoplastic   \n",
       "1                  Polycarbonate      thermoset   \n",
       "2         Polychloromethacrylate  thermoplastic   \n",
       "3                    Polystyrene  thermoplastic   \n",
       "4  Polymethacrylsauremethylester      thermoset   \n",
       "\n",
       "   Glass Transition Temperature (K)  \\\n",
       "0                               476   \n",
       "1                               437   \n",
       "2                               431   \n",
       "3                               390   \n",
       "4                               387   \n",
       "\n",
       "   Reduced Glass Transition Temperature (293/T_g)  Shear Modulus (MPa)  \\\n",
       "0                                           0.615               1278.8   \n",
       "1                                           0.671               1599.1   \n",
       "2                                           0.679               2391.3   \n",
       "3                                           0.752               1045.7   \n",
       "4                                           0.756               1222.9   \n",
       "\n",
       "   Density (g/cm^3)  Density Measurement Precision (no. sig figs)  \\\n",
       "0             1.200                                             2   \n",
       "1             1.200                                             2   \n",
       "2             0.936                                             3   \n",
       "3             1.050                                             3   \n",
       "4             2.000                                             1   \n",
       "\n",
       "  Melt or Burn? Level of Cross-Linking Elongation  \n",
       "0          melt                   none   moderate  \n",
       "1          burn                   high        low  \n",
       "2          melt                   none   moderate  \n",
       "3          melt                   none   moderate  \n",
       "4          burn                   high        low  "
      ]
     },
     "execution_count": 3,
     "metadata": {},
     "output_type": "execute_result"
    }
   ],
   "source": [
    "polymers_df.head()"
   ]
  },
  {
   "cell_type": "code",
   "execution_count": 4,
   "metadata": {},
   "outputs": [],
   "source": [
    "polymers_df = polymers_df.drop(['Polymer Name'], axis=1)\n",
    "cat2num = {'Melt or Burn?' : {'melt' : 0, 'burn' : 1},\n",
    "           'Level of Cross-Linking' : {'none' : 0, 'low' : 1, 'moderate' : 2, 'high' : 3},\n",
    "           'Elongation' : {'low' : 0, 'moderate' : 1, 'high' : 2}}\n",
    "\n",
    "polymers_df.replace(cat2num, inplace=True)"
   ]
  },
  {
   "cell_type": "markdown",
   "metadata": {},
   "source": [
    "We'll plot the shear modulus against the glass transition temperature:"
   ]
  },
  {
   "cell_type": "code",
   "execution_count": 5,
   "metadata": {},
   "outputs": [],
   "source": [
    "def plot_data(df, x, y, hue=None, logscale=False):\n",
    "    sns.set_style('whitegrid')\n",
    "    fig = sns.lmplot(x=x, y=y, \n",
    "               data=df, hue=hue, palette='coolwarm',\n",
    "               height=6, aspect=1, fit_reg=False)\n",
    "\n",
    "    ax = fig.axes[0][0]\n",
    "    if logscale:\n",
    "        ax.set_yscale('log')\n",
    "    return\n",
    "\n",
    "def df2np(df, xs, label):\n",
    "    X = df[xs].to_numpy()\n",
    "    y = df[label].to_numpy()\n",
    "    return X, y"
   ]
  },
  {
   "cell_type": "code",
   "execution_count": 6,
   "metadata": {},
   "outputs": [
    {
     "data": {
      "image/png": "[encoded data removed]",
      "text/plain": [
       "<Figure size 432x432 with 1 Axes>"
      ]
     },
     "metadata": {},
     "output_type": "display_data"
    }
   ],
   "source": [
    "plot_data(df=polymers_df, \n",
    "          x='Glass Transition Temperature (K)', \n",
    "          y='Shear Modulus (MPa)',\n",
    "          logscale=False)"
   ]
  },
  {
   "cell_type": "markdown",
   "metadata": {},
   "source": [
    "This does not give us much intuition in terms of separating data points. However, it looks like there are a group of points clustered at very low shear moduli. Let's try plot the shear modulus on a log scale:"
   ]
  },
  {
   "cell_type": "code",
   "execution_count": 7,
   "metadata": {},
   "outputs": [
    {
     "data": {
      "image/png": "[encoded data removed]",
      "text/plain": [
       "<Figure size 432x432 with 1 Axes>"
      ]
     },
     "metadata": {},
     "output_type": "display_data"
    }
   ],
   "source": [
    "plot_data(df=polymers_df, \n",
    "          x='Glass Transition Temperature (K)', \n",
    "          y='Shear Modulus (MPa)',\n",
    "          logscale=True)"
   ]
  },
  {
   "cell_type": "markdown",
   "metadata": {},
   "source": [
    "Now we are starting to see some significance in the separation between the data points. Though, it is still hard to discern 3 distinct clusters of materials. Let's take a look at density and glass transition temperature as well as density and shear modulus:"
   ]
  },
  {
   "cell_type": "code",
   "execution_count": 8,
   "metadata": {},
   "outputs": [
    {
     "data": {
      "image/png": "[encoded data removed]",
      "text/plain": [
       "<Figure size 432x432 with 1 Axes>"
      ]
     },
     "metadata": {},
     "output_type": "display_data"
    }
   ],
   "source": [
    "plot_data(df=polymers_df, \n",
    "          x='Glass Transition Temperature (K)', \n",
    "          y='Density (g/cm^3)',\n",
    "          logscale=True)"
   ]
  },
  {
   "cell_type": "code",
   "execution_count": 9,
   "metadata": {},
   "outputs": [
    {
     "data": {
      "image/png": "[encoded data removed]",
      "text/plain": [
       "<Figure size 432x432 with 1 Axes>"
      ]
     },
     "metadata": {},
     "output_type": "display_data"
    }
   ],
   "source": [
    "plot_data(df=polymers_df, \n",
    "          x='Shear Modulus (MPa)', \n",
    "          y='Density (g/cm^3)',\n",
    "          logscale=True)"
   ]
  },
  {
   "cell_type": "markdown",
   "metadata": {},
   "source": [
    "These scatter plots are even harder to discern specific clusters of materials. Let's try using PCA to reduce the dimensionality of our dataset, taking advantage of our categorical features as well:"
   ]
  },
  {
   "cell_type": "code",
   "execution_count": 10,
   "metadata": {},
   "outputs": [
    {
     "data": {
      "image/png": "[encoded data removed]",
      "text/plain": [
       "<Figure size 576x576 with 1 Axes>"
      ]
     },
     "metadata": {},
     "output_type": "display_data"
    }
   ],
   "source": [
    "#### Sanity Checks ####\n",
    "\n",
    "## PCA on Dataset\n",
    "\n",
    "features = ['Glass Transition Temperature (K)', 'Shear Modulus (MPa)', 'Density (g/cm^3)', 'Level of Cross-Linking', 'Melt or Burn?', 'Elongation']\n",
    "\n",
    "x = polymers_df.loc[:, features].values\n",
    "\n",
    "y = polymers_df.loc[:, ['Polymer Type']].values\n",
    "\n",
    "x = StandardScaler().fit_transform(x)\n",
    "\n",
    "pca = PCA(n_components=2)\n",
    "\n",
    "principalComponents = pca.fit_transform(x)\n",
    "\n",
    "principalDf = pd.DataFrame(data = principalComponents,\n",
    "                          columns = ['principal component 1', 'principal component 2'])\n",
    "\n",
    "finalDf = pd.concat([principalDf, polymers_df[['Polymer Type']]], axis=1)\n",
    "\n",
    "fig = plt.figure(figsize = (8,8))\n",
    "ax = fig.add_subplot(1,1,1)\n",
    "\n",
    "### show labels ###\n",
    "'''targets = ['thermoset', 'thermoplastic', 'elastomer']\n",
    "colors = ['r', 'g', 'b']\n",
    "for target, color in zip(targets, colors):\n",
    "    indicesToKeep = finalDf['Polymer Type'] == target\n",
    "    ax.scatter(finalDf.loc[indicesToKeep, 'principal component 1'],\n",
    "               finalDf.loc[indicesToKeep, 'principal component 2'],\n",
    "               c = color,\n",
    "               s = 50)'''\n",
    "\n",
    "### omit labels ###\n",
    "ax.scatter(finalDf['principal component 1'], finalDf['principal component 2'], s=50)\n",
    "\n",
    "#ax.legend(targets)\n",
    "ax.grid()"
   ]
  },
  {
   "cell_type": "code",
   "execution_count": 11,
   "metadata": {},
   "outputs": [
    {
     "data": {
      "text/plain": [
       "array([2, 1, 2, 2, 1, 1, 2, 1, 1, 2, 1, 1, 1, 1, 1, 1, 2, 1, 1, 1, 1, 2,\n",
       "       2, 0, 2, 1, 2, 0, 0, 0, 0, 0, 0, 0, 0, 0, 0, 0, 0, 0, 2, 2, 2, 2],\n",
       "      dtype=int32)"
      ]
     },
     "execution_count": 11,
     "metadata": {},
     "output_type": "execute_result"
    }
   ],
   "source": [
    "### KMeans ###\n",
    "\n",
    "X,y = df2np(df=finalDf, xs=['principal component 1', 'principal component 2'], label='Polymer Type')\n",
    "\n",
    "kmeans = KMeans(n_clusters=3, random_state=0).fit(X)\n",
    "kmeans.labels_"
   ]
  },
  {
   "cell_type": "code",
   "execution_count": 12,
   "metadata": {},
   "outputs": [
    {
     "data": {
      "text/plain": [
       "array([[-1.92166274, -0.7162004 ],\n",
       "       [ 2.19379322, -0.58250456],\n",
       "       [-0.58552951,  1.38191989]])"
      ]
     },
     "execution_count": 12,
     "metadata": {},
     "output_type": "execute_result"
    }
   ],
   "source": [
    "kmeans.cluster_centers_"
   ]
  },
  {
   "cell_type": "markdown",
   "metadata": {},
   "source": [
    "(This clustering has 2 misclassified datapoints, index 23 and 29)"
   ]
  },
  {
   "cell_type": "markdown",
   "metadata": {},
   "source": [
    "## Step 2: k-Means Implementation"
   ]
  },
  {
   "cell_type": "markdown",
   "metadata": {},
   "source": [
    "Let $X$ denote the set of $N$ data points $\\vec{x_i} \\in \\mathbb{R}^d$. A cluster assignment is a partition $C_1, ..., C_k \\in X$ such that the sets $C_k$ are disjoint and $X = C_1 \\cup ... \\cup C_k$. A data point $\\vec{x_i} \\in X$ is said to belong to cluster $k$ if it is in $C_k$."
   ]
  },
  {
   "cell_type": "markdown",
   "metadata": {},
   "source": [
    "Formally, k-Means solves the following optimization problem: $\\underset{\\{C_k\\}_{k = 1}^{K}, \\{\\vec{c_k}\\}_{k = 1}^{K}: X = C_1 \\cup ... \\cup C_K}{\\arg\\min} \\sum_{k = 1}^{K} \\underset{\\vec{x} \\in C_k}{\\sum} \\|\\vec{x} - \\vec{c_k}\\|^2$ "
   ]
  },
  {
   "cell_type": "markdown",
   "metadata": {},
   "source": [
    "More informally, k-Means is trying to find the best cluster centers & assignments that maximizes the distance between clusters and minimizes the size of each cluster. In other words, we want to find clusters that are as far apart (distinct) from each other as possible, while making sure that all the points in a cluster are pretty close to each other. \n",
    "\n",
    "Solving this optimization problem directly is NP-hard (i.e. computationally very difficult). Instead, we use Lloyd's Algorithm: \n",
    "1. Pick some K representing the number of groups you wish to cluster your datset into\n",
    "2. Randomly initialize $\\vec{c_k}, k = 1,...,K$\n",
    "3. While $\\vec{c_k}$ keeps changing (k-Means has not converged): \n",
    "    * Update partition $C_1 \\cup ... \\cup C_k$ given by the $\\vec{c_k}$ by assigning each $\\vec{x_i} \\in X$ to the cluster represented by its nearest centroid: $\\underset{k}{\\arg\\min} \\|\\vec{x} - \\vec{c_k}\\|^2$\n",
    "    * Update centroid $\\vec{c_k}$ given $C_1 \\cup ... \\cup C_k$ as $\\vec{c_k} = \\frac{1}{\\lvert {C_k} \\rvert} \\sum_{\\vec{x} \\in C_k} \\vec{x}$\n",
    "\n",
    "This algorithm will always converge to some value becaue each step in (3) is guaranteed to not increase the value of the objective function. This two-step algorithm can be implemented using the help of two functions: \n",
    "1. assign_clusters: given a set of clusters, assign each data point to the best cluster\n",
    "2. update_means: given a set of cluster assignments, compute the new best cluster center (a.k.a. centroid)\n",
    "\n",
    "#### TODO: complete the implementations of assign_clusters and update_means below"
   ]
  },
  {
   "cell_type": "code",
   "execution_count": 40,
   "metadata": {},
   "outputs": [],
   "source": [
    "def assign_clusters(X, c): \n",
    "    \"\"\"\n",
    "    Takes in an (n x d) data matrix X, and a (k x d) matrix of the centroids c. \n",
    "    Returns a length-n vector with the index of the closest centroid to each data point.\n",
    "    \"\"\"\n",
    "    n, d = X.shape\n",
    "    k = c.shape[0]\n",
    "    assert d == c.shape[1], \"Centroids are of the wrong shape\"\n",
    "    assignments = np.zeros(n)\n",
    "    for i, point in enumerate(X): \n",
    "        #TODO: Set assignments[i] to be the index of the centroid who is closest to the current point\n",
    "        ### start assign_cluster ###\n",
    "        ############################\n",
    "        assignments[i] = min(range(k), key = lambda j: np.linalg.norm(point - c[j]))\n",
    "        ###########################\n",
    "        ### end assign_cluster ###\n",
    "    return assignments\n",
    "\n",
    "def update_means(X, assignments): \n",
    "    \"\"\"\n",
    "    Takes in an (n x d) data matrix X, and a length-n vector of\n",
    "    the cluster indices of each point.\n",
    "    Computes the mean of each cluster and returns a (k x d) matrix of the centroids.\n",
    "    \"\"\"\n",
    "    n, d = X.shape\n",
    "    assert len(assignments) == n\n",
    "    k = len(set(assignments))\n",
    "    centroids = []\n",
    "    for i in range(k): \n",
    "        #TODO: set centroid_i to be the mean of all points in cluster 'i'\n",
    "        ### start update_means ###\n",
    "        cluster_points = X[assignments == i]\n",
    "        centroid_i = np.mean(cluster_points, axis = 0)\n",
    "        ### end update_means ###\n",
    "        centroids.append(centroid_i)\n",
    "    return np.array(centroids)"
   ]
  },
  {
   "cell_type": "markdown",
   "metadata": {},
   "source": [
    "Along with assign_clusters and update_means, we need a few other helper functions to have a working k-Means implementation: \n",
    "1. initialize_centroids: this will randomly pick k number of data points to serve as the initial centroids to pass into assign_clusters to kickstart the algorithm. \n",
    "2. cost: unlike supervised learning problems where we can measure training error by calculating the distance between our model output and the true output, unsupervised learning does not have the same luxury. We actually don't have access to the true clusters that the data points belong to, so we have to come up with a different measure of how well or poor our clustering is. For this demo, we will use the summ of squared distance of each data point to its centroid as a measure of cost. \n",
    "\n",
    "#### TODO: Complete the implementations of initialize_centroids and cost below"
   ]
  },
  {
   "cell_type": "code",
   "execution_count": 146,
   "metadata": {},
   "outputs": [],
   "source": [
    "def initialize_centroids(X, k): \n",
    "    \"\"\"\n",
    "    Takes in an (n x d) data matrix X, and employs forgy initialization, where the initialized centroids are\n",
    "    randomly chosen from the input data set. \n",
    "    \"\"\"\n",
    "    n, d = X.shape\n",
    "    #TODO: Set centroids to be k randomly picked data points from X\n",
    "    ### start initialize_centroids ###\n",
    "    ##################################\n",
    "    np.random.seed(0)\n",
    "    centroids = X[np.random.choice(n, k, replace = False)]\n",
    "    ################################\n",
    "    ### end initialize_centroids ###\n",
    "    return centroids\n",
    "\n",
    "def cost(X, assignments, centroids): \n",
    "    \"\"\"\n",
    "    Computes the sum of the squared distance between each point\n",
    "    and the mean of its associated cluster. \n",
    "    Remember: k-Means seeks to minimize intra-cluster distance \n",
    "    and maximize inter-cluster distance.\n",
    "    \"\"\"\n",
    "    total_cost = 0\n",
    "    n, d = X.shape\n",
    "    k = centroids.shape[0]\n",
    "    assert centroids.shape[1] == d\n",
    "    assert len(assignments) == n\n",
    "    for i in range(k): \n",
    "        #TODO: set cost_i to be the sum of squared distance from all points in cluster 'i' to centroid 'i'\n",
    "        ### start cost ###\n",
    "        ##################\n",
    "        cost_i = np.linalg.norm(X[assignments == i] - centroids[i])**2\n",
    "        ################\n",
    "        ### end cost ###\n",
    "        total_cost += cost_i\n",
    "    return total_cost"
   ]
  },
  {
   "cell_type": "markdown",
   "metadata": {},
   "source": [
    "All of these functions together will give us a working k-Means implementation. We've provided a function that will run through Lloyd's algorithm and call each of these function individualy. We've also included a few more functions that will help us visualize our results. No need to modify any of the functions below. "
   ]
  },
  {
   "cell_type": "code",
   "execution_count": 147,
   "metadata": {},
   "outputs": [],
   "source": [
    "def k_means(X, k): \n",
    "    \"\"\"\n",
    "    Take in an (n x d) data matrix X and a parameter 'k' representing the number of clusters. \n",
    "    Yields the centroids and cluster assignments after each step \n",
    "    of running k-means in a 2-tuple.\n",
    "    \"\"\"\n",
    "    n, d = X.shape\n",
    "    centroids = initialize_centroids(X, k)\n",
    "    assignments = assign_clusters(X, centroids)\n",
    "    \n",
    "    steps = []\n",
    "    \n",
    "    while True: \n",
    "        steps.append((centroids, assignments))\n",
    "        centroids = update_means(X, assignments)\n",
    "        new_assignments = assign_clusters(X, centroids)\n",
    "        if np.all(assignments == new_assignments): \n",
    "            steps.append((centroids, assignments))\n",
    "            error = cost(X, assignments, centroids)\n",
    "#             print(f'Final cost = {cost(X, assignments, centroids)}')\n",
    "            break\n",
    "        assignments = new_assignments\n",
    "    \n",
    "    return steps, error\n",
    "\n",
    "def package_implementation(X, k):\n",
    "    \"\"\"\n",
    "    Takes in an (n x d) matrix X and a parameter 'k' representing the number of clusters. \n",
    "    Returns the final (centroid, assignments) tuple.\n",
    "    \"\"\"\n",
    "    kmeans = KMeans(n_clusters=k, n_init=1, init=initialize_centroids(X, k)).fit(X)\n",
    "    assignments = kmeans.labels_\n",
    "    centroids = kmeans.cluster_centers_\n",
    "    \n",
    "    return (centroids, assignments, kmeans.inertia_)\n",
    "\n",
    "def final_k_means_cluster(X, k): \n",
    "    steps, cost = k_means(X, k)\n",
    "    return steps[-1][0], steps[-1][1], cost\n",
    "\n",
    "def plot_clustering(X, centroids, assignments): \n",
    "    k = len(centroids)\n",
    "    for j in range(k): \n",
    "        plt.scatter(*X[assignments == j].T)\n",
    "    plt.scatter(*centroids.T, marker='x', s = 240, c = 'black')\n",
    "    plt.show()\n",
    "\n",
    "def interact_clustering(X, logger): \n",
    "    history = list(logger)\n",
    "    k = history[0][0].shape[0]\n",
    "    \n",
    "    def plotter(i): \n",
    "        plot_clustering(X, *history[i])\n",
    "    \n",
    "    interact(plotter, i = IntSlider(min=0, max=len(history) - 1, continuous_update = False))\n",
    "\n",
    "def demo(classes, history= False): \n",
    "    for c in classes: \n",
    "        plt.scatter(*c.T)\n",
    "    plt.show()\n",
    "    \n",
    "    points = np.vstack(classes)\n",
    "    \n",
    "    if history: \n",
    "        interact_clustering(points, k_means_cluster(points, len(classes)))\n",
    "    else: \n",
    "        centroids, assignments = final_k_means_cluster(points, len(classes))\n",
    "        plot_clustering(points, centroids, assignments)"
   ]
  },
  {
   "cell_type": "markdown",
   "metadata": {},
   "source": [
    "Before we can continue, we should make sure that our implementation is working properly. Let's compare the results of our k-Means implementation with Sklearn's implementation on our dataset X projected onto its first 2 principal components. This way, we can actually visualize the clusters in 2D space. If we were to work with the raw dataset in dimensions greater than 3, we couldn't visualize the clusters & would have to rely on our measure of cost to determine how effective the clusters were. "
   ]
  },
  {
   "cell_type": "code",
   "execution_count": 148,
   "metadata": {},
   "outputs": [
    {
     "name": "stdout",
     "output_type": "stream",
     "text": [
      "19.413469294094266\n"
     ]
    },
    {
     "data": {
      "image/png": "[encoded data removed]",
      "text/plain": [
       "<Figure size 432x288 with 1 Axes>"
      ]
     },
     "metadata": {},
     "output_type": "display_data"
    }
   ],
   "source": [
    "centroids, assignments, total_distance_cost = final_k_means_cluster(X, k=5)\n",
    "print(total_distance_cost)\n",
    "plot_clustering(X, centroids, assignments)"
   ]
  },
  {
   "cell_type": "code",
   "execution_count": 149,
   "metadata": {},
   "outputs": [
    {
     "name": "stdout",
     "output_type": "stream",
     "text": [
      "19.413469294094266\n"
     ]
    },
    {
     "data": {
      "image/png": "[encoded data removed]",
      "text/plain": [
       "<Figure size 432x288 with 1 Axes>"
      ]
     },
     "metadata": {},
     "output_type": "display_data"
    }
   ],
   "source": [
    "centroids, assignments, total_distance_cost = package_implementation(X, k=5)\n",
    "print(total_distance_cost)\n",
    "plot_clustering(X, centroids, assignments)"
   ]
  },
  {
   "cell_type": "markdown",
   "metadata": {},
   "source": [
    "Did your prediction match the results of the demo? Why or why not? \n",
    "#### Answer: "
   ]
  },
  {
   "cell_type": "markdown",
   "metadata": {},
   "source": [
    "## Step 3: Tuning our k-Means Implementation"
   ]
  },
  {
   "cell_type": "markdown",
   "metadata": {},
   "source": [
    "There are many things we could do to adjust our k-Means implementation to get different clustering results. We'll focus on two different tactics for finding the best parameters to feed into our k-Means implementation: \n",
    "1. The number of clusters, K: this will determine how many classes we're left with after our data is clustered. Traditionally, this is either picked using domain knowledge, cross-validation, or a little bit of both. \n",
    "2. The dimensionality of data: we can choose to either pass in the raw data, or we can reduce the dimensions of the data. Sometimes, reducing the dimensionality can yield much better clusters because we're only concerning ourselves with the most important components of the data. We saw earlier that projecting the data onto its first two principal components made the data visualization look really different. We can see how clustering might change if we change the number of principal components we project onto. \n",
    "\n",
    "Because we are trying to find both the best 'K' hyperparameter value and the best dimension, d,  for the training data, we can perform cross validation through grid search. However, it would be computationally inefficient to do a grid search for all possible values that K and d can take. \n",
    "\n",
    "What ranges for K and d should we perform grid search over? \n",
    "\n",
    "#### Answer: "
   ]
  },
  {
   "cell_type": "markdown",
   "metadata": {},
   "source": [
    "A good sanity check would be to look at the clusters created for different values of k.\n",
    "\n",
    "#### TODO: change num_clusters to visualize the output of k-Means for different values of k when projecting onto d=2 dimensions."
   ]
  },
  {
   "cell_type": "code",
   "execution_count": 80,
   "metadata": {},
   "outputs": [
    {
     "data": {
      "image/png": "[encoded data removed]",
      "text/plain": [
       "<Figure size 432x288 with 1 Axes>"
      ]
     },
     "metadata": {},
     "output_type": "display_data"
    }
   ],
   "source": [
    "num_clusters = 5\n",
    "centroids, assignments, total_distance_cost = final_k_means_cluster(X, k=num_clusters)\n",
    "plot_clustering(X, centroids, assignments)"
   ]
  },
  {
   "cell_type": "markdown",
   "metadata": {},
   "source": [
    "We can't perform the same sanity check to look at which projections give us the best clusters because we can't visualize dimensions beyond 3D. Typically, in practice, it's difficult to determine which dimension to project the data into and many data scientists often do this by trial and error. For the purposes of our project, your boss tells you to work in 3 dimensions so that you can easily visualize the different clusters that form. \n",
    "\n",
    "#### TODO: pick values for max_k. Depending on the values you pick, the performance of the cross validation will change accordingly"
   ]
  },
  {
   "cell_type": "code",
   "execution_count": 174,
   "metadata": {},
   "outputs": [],
   "source": [
    "max_k = 10\n",
    "prospective_k = range(1, max_k + 1)\n",
    "\n",
    "d = 3"
   ]
  },
  {
   "cell_type": "code",
   "execution_count": 183,
   "metadata": {},
   "outputs": [],
   "source": [
    "def perform_k_means(k, d, X): \n",
    "    pca = PCA(n_components=d)\n",
    "    principalComponents = pca.fit_transform(X)\n",
    "    return final_k_means_cluster(principalComponents, k=k)\n",
    "\n",
    "def cross_validation(arr_k, d, X): \n",
    "    all_centroids = []\n",
    "    all_assignments = []\n",
    "    all_costs = np.zeros((len(arr_k)))\n",
    "    for i in range(0, len(arr_k)): \n",
    "        centroids, assignments, total_distance_cost = perform_k_means(arr_k[i], d, X)\n",
    "        all_centroids.append(centroids)\n",
    "        all_assignments.append(assignments)\n",
    "        all_costs[i] = total_distance_cost\n",
    "    \n",
    "#     p = PrettyTable()\n",
    "#     p.field_names = [\"k\"] + list(arr_d)\n",
    "#     for row in range(0, len(all_costs)):\n",
    "#         p.add_row([arr_k[row]] + list(all_costs[row]))\n",
    "\n",
    "#     print(p)\n",
    "#     print(f'Optimal k: {arr_k[best_index]}')\n",
    "    \n",
    "    return all_costs, all_centroids, all_assignments\n",
    "    "
   ]
  },
  {
   "cell_type": "code",
   "execution_count": 184,
   "metadata": {
    "scrolled": true
   },
   "outputs": [],
   "source": [
    "min_cost, centroids, assignments = cross_validation(prospective_k, d, x)"
   ]
  },
  {
   "cell_type": "markdown",
   "metadata": {},
   "source": [
    "Unlike with other hyperparameters that we've seen before, like polynomial degree, the number of clusters hyperparameter is not expected to have a clear minimum "
   ]
  },
  {
   "cell_type": "code",
   "execution_count": 185,
   "metadata": {},
   "outputs": [
    {
     "data": {
      "text/plain": [
       "[<matplotlib.lines.Line2D at 0x1a1865d080>]"
      ]
     },
     "execution_count": 185,
     "metadata": {},
     "output_type": "execute_result"
    },
    {
     "data": {
      "image/png": "[encoded data removed]",
      "text/plain": [
       "<Figure size 432x288 with 1 Axes>"
      ]
     },
     "metadata": {},
     "output_type": "display_data"
    }
   ],
   "source": [
    "plt.plot(min_cost)"
   ]
  },
  {
   "cell_type": "markdown",
   "metadata": {},
   "source": [
    "Based on the results of the cross-validation, what is the optimal value of k and d? Also, report the min and max costs of clustering. \n",
    "\n",
    "#### Answer: "
   ]
  },
  {
   "cell_type": "markdown",
   "metadata": {},
   "source": [
    "Does this make sense intuitively? Why or why not? \n",
    "\n",
    "#### Answer: "
   ]
  },
  {
   "cell_type": "code",
   "execution_count": 134,
   "metadata": {},
   "outputs": [
    {
     "data": {
      "text/plain": [
       "(44, 6)"
      ]
     },
     "execution_count": 134,
     "metadata": {},
     "output_type": "execute_result"
    }
   ],
   "source": [
    "x.shape"
   ]
  },
  {
   "cell_type": "code",
   "execution_count": 167,
   "metadata": {},
   "outputs": [
    {
     "name": "stdout",
     "output_type": "stream",
     "text": [
      "[250.08773593 120.22454552  75.85055614  63.43320987  41.61281345\n",
      "  38.56901294  37.04944032  27.27211916  25.825062    28.88931095]\n"
     ]
    }
   ],
   "source": [
    "print(min_cost[:, 2])"
   ]
  },
  {
   "cell_type": "code",
   "execution_count": 169,
   "metadata": {},
   "outputs": [
    {
     "data": {
      "text/plain": [
       "[<matplotlib.lines.Line2D at 0x1a186b48d0>]"
      ]
     },
     "execution_count": 169,
     "metadata": {},
     "output_type": "execute_result"
    },
    {
     "data": {
      "image/png": "[encoded data removed]",
      "text/plain": [
       "<Figure size 432x288 with 1 Axes>"
      ]
     },
     "metadata": {},
     "output_type": "display_data"
    }
   ],
   "source": [
    "plt.plot(min_cost[:, 1])"
   ]
  },
  {
   "cell_type": "code",
   "execution_count": 163,
   "metadata": {},
   "outputs": [
    {
     "ename": "ValueError",
     "evalue": "Unrecognized marker style array([], shape=(44, 0), dtype=float64)",
     "output_type": "error",
     "traceback": [
      "\u001b[0;31m---------------------------------------------------------------------------\u001b[0m",
      "\u001b[0;31mValueError\u001b[0m                                Traceback (most recent call last)",
      "\u001b[0;32m~/anaconda3/lib/python3.7/site-packages/matplotlib/markers.py\u001b[0m in \u001b[0;36mset_marker\u001b[0;34m(self, marker)\u001b[0m\n\u001b[1;32m    308\u001b[0m             \u001b[0;32mtry\u001b[0m\u001b[0;34m:\u001b[0m\u001b[0;34m\u001b[0m\u001b[0;34m\u001b[0m\u001b[0m\n\u001b[0;32m--> 309\u001b[0;31m                 \u001b[0mPath\u001b[0m\u001b[0;34m(\u001b[0m\u001b[0mmarker\u001b[0m\u001b[0;34m)\u001b[0m\u001b[0;34m\u001b[0m\u001b[0;34m\u001b[0m\u001b[0m\n\u001b[0m\u001b[1;32m    310\u001b[0m                 \u001b[0mself\u001b[0m\u001b[0;34m.\u001b[0m\u001b[0m_marker_function\u001b[0m \u001b[0;34m=\u001b[0m \u001b[0mself\u001b[0m\u001b[0;34m.\u001b[0m\u001b[0m_set_vertices\u001b[0m\u001b[0;34m\u001b[0m\u001b[0;34m\u001b[0m\u001b[0m\n",
      "\u001b[0;32m~/anaconda3/lib/python3.7/site-packages/matplotlib/path.py\u001b[0m in \u001b[0;36m__init__\u001b[0;34m(self, vertices, codes, _interpolation_steps, closed, readonly)\u001b[0m\n\u001b[1;32m    129\u001b[0m             raise ValueError(\n\u001b[0;32m--> 130\u001b[0;31m                 \"'vertices' must be a 2D list or array with shape Nx2\")\n\u001b[0m\u001b[1;32m    131\u001b[0m \u001b[0;34m\u001b[0m\u001b[0m\n",
      "\u001b[0;31mValueError\u001b[0m: 'vertices' must be a 2D list or array with shape Nx2",
      "\nDuring handling of the above exception, another exception occurred:\n",
      "\u001b[0;31mValueError\u001b[0m                                Traceback (most recent call last)",
      "\u001b[0;32m<ipython-input-163-fb378637d471>\u001b[0m in \u001b[0;36m<module>\u001b[0;34m\u001b[0m\n\u001b[0;32m----> 1\u001b[0;31m \u001b[0mplot_clustering\u001b[0m\u001b[0;34m(\u001b[0m\u001b[0mx\u001b[0m\u001b[0;34m,\u001b[0m \u001b[0mcentroids\u001b[0m\u001b[0;34m,\u001b[0m \u001b[0massignments\u001b[0m\u001b[0;34m)\u001b[0m\u001b[0;34m\u001b[0m\u001b[0;34m\u001b[0m\u001b[0m\n\u001b[0m",
      "\u001b[0;32m<ipython-input-147-daf8ada2a305>\u001b[0m in \u001b[0;36mplot_clustering\u001b[0;34m(X, centroids, assignments)\u001b[0m\n\u001b[1;32m     42\u001b[0m     \u001b[0mk\u001b[0m \u001b[0;34m=\u001b[0m \u001b[0mlen\u001b[0m\u001b[0;34m(\u001b[0m\u001b[0mcentroids\u001b[0m\u001b[0;34m)\u001b[0m\u001b[0;34m\u001b[0m\u001b[0;34m\u001b[0m\u001b[0m\n\u001b[1;32m     43\u001b[0m     \u001b[0;32mfor\u001b[0m \u001b[0mj\u001b[0m \u001b[0;32min\u001b[0m \u001b[0mrange\u001b[0m\u001b[0;34m(\u001b[0m\u001b[0mk\u001b[0m\u001b[0;34m)\u001b[0m\u001b[0;34m:\u001b[0m\u001b[0;34m\u001b[0m\u001b[0;34m\u001b[0m\u001b[0m\n\u001b[0;32m---> 44\u001b[0;31m         \u001b[0mplt\u001b[0m\u001b[0;34m.\u001b[0m\u001b[0mscatter\u001b[0m\u001b[0;34m(\u001b[0m\u001b[0;34m*\u001b[0m\u001b[0mX\u001b[0m\u001b[0;34m[\u001b[0m\u001b[0massignments\u001b[0m \u001b[0;34m==\u001b[0m \u001b[0mj\u001b[0m\u001b[0;34m]\u001b[0m\u001b[0;34m.\u001b[0m\u001b[0mT\u001b[0m\u001b[0;34m)\u001b[0m\u001b[0;34m\u001b[0m\u001b[0;34m\u001b[0m\u001b[0m\n\u001b[0m\u001b[1;32m     45\u001b[0m     \u001b[0mplt\u001b[0m\u001b[0;34m.\u001b[0m\u001b[0mscatter\u001b[0m\u001b[0;34m(\u001b[0m\u001b[0;34m*\u001b[0m\u001b[0mcentroids\u001b[0m\u001b[0;34m.\u001b[0m\u001b[0mT\u001b[0m\u001b[0;34m,\u001b[0m \u001b[0mmarker\u001b[0m\u001b[0;34m=\u001b[0m\u001b[0;34m'x'\u001b[0m\u001b[0;34m,\u001b[0m \u001b[0ms\u001b[0m \u001b[0;34m=\u001b[0m \u001b[0;36m240\u001b[0m\u001b[0;34m,\u001b[0m \u001b[0mc\u001b[0m \u001b[0;34m=\u001b[0m \u001b[0;34m'black'\u001b[0m\u001b[0;34m)\u001b[0m\u001b[0;34m\u001b[0m\u001b[0;34m\u001b[0m\u001b[0m\n\u001b[1;32m     46\u001b[0m     \u001b[0mplt\u001b[0m\u001b[0;34m.\u001b[0m\u001b[0mshow\u001b[0m\u001b[0;34m(\u001b[0m\u001b[0;34m)\u001b[0m\u001b[0;34m\u001b[0m\u001b[0;34m\u001b[0m\u001b[0m\n",
      "\u001b[0;32m~/anaconda3/lib/python3.7/site-packages/matplotlib/pyplot.py\u001b[0m in \u001b[0;36mscatter\u001b[0;34m(x, y, s, c, marker, cmap, norm, vmin, vmax, alpha, linewidths, verts, edgecolors, plotnonfinite, data, **kwargs)\u001b[0m\n\u001b[1;32m   2846\u001b[0m         \u001b[0mverts\u001b[0m\u001b[0;34m=\u001b[0m\u001b[0mverts\u001b[0m\u001b[0;34m,\u001b[0m \u001b[0medgecolors\u001b[0m\u001b[0;34m=\u001b[0m\u001b[0medgecolors\u001b[0m\u001b[0;34m,\u001b[0m\u001b[0;34m\u001b[0m\u001b[0;34m\u001b[0m\u001b[0m\n\u001b[1;32m   2847\u001b[0m         plotnonfinite=plotnonfinite, **({\"data\": data} if data is not\n\u001b[0;32m-> 2848\u001b[0;31m         None else {}), **kwargs)\n\u001b[0m\u001b[1;32m   2849\u001b[0m     \u001b[0msci\u001b[0m\u001b[0;34m(\u001b[0m\u001b[0m__ret\u001b[0m\u001b[0;34m)\u001b[0m\u001b[0;34m\u001b[0m\u001b[0;34m\u001b[0m\u001b[0m\n\u001b[1;32m   2850\u001b[0m     \u001b[0;32mreturn\u001b[0m \u001b[0m__ret\u001b[0m\u001b[0;34m\u001b[0m\u001b[0;34m\u001b[0m\u001b[0m\n",
      "\u001b[0;32m~/anaconda3/lib/python3.7/site-packages/matplotlib/__init__.py\u001b[0m in \u001b[0;36minner\u001b[0;34m(ax, data, *args, **kwargs)\u001b[0m\n\u001b[1;32m   1597\u001b[0m     \u001b[0;32mdef\u001b[0m \u001b[0minner\u001b[0m\u001b[0;34m(\u001b[0m\u001b[0max\u001b[0m\u001b[0;34m,\u001b[0m \u001b[0;34m*\u001b[0m\u001b[0margs\u001b[0m\u001b[0;34m,\u001b[0m \u001b[0mdata\u001b[0m\u001b[0;34m=\u001b[0m\u001b[0;32mNone\u001b[0m\u001b[0;34m,\u001b[0m \u001b[0;34m**\u001b[0m\u001b[0mkwargs\u001b[0m\u001b[0;34m)\u001b[0m\u001b[0;34m:\u001b[0m\u001b[0;34m\u001b[0m\u001b[0;34m\u001b[0m\u001b[0m\n\u001b[1;32m   1598\u001b[0m         \u001b[0;32mif\u001b[0m \u001b[0mdata\u001b[0m \u001b[0;32mis\u001b[0m \u001b[0;32mNone\u001b[0m\u001b[0;34m:\u001b[0m\u001b[0;34m\u001b[0m\u001b[0;34m\u001b[0m\u001b[0m\n\u001b[0;32m-> 1599\u001b[0;31m             \u001b[0;32mreturn\u001b[0m \u001b[0mfunc\u001b[0m\u001b[0;34m(\u001b[0m\u001b[0max\u001b[0m\u001b[0;34m,\u001b[0m \u001b[0;34m*\u001b[0m\u001b[0mmap\u001b[0m\u001b[0;34m(\u001b[0m\u001b[0msanitize_sequence\u001b[0m\u001b[0;34m,\u001b[0m \u001b[0margs\u001b[0m\u001b[0;34m)\u001b[0m\u001b[0;34m,\u001b[0m \u001b[0;34m**\u001b[0m\u001b[0mkwargs\u001b[0m\u001b[0;34m)\u001b[0m\u001b[0;34m\u001b[0m\u001b[0;34m\u001b[0m\u001b[0m\n\u001b[0m\u001b[1;32m   1600\u001b[0m \u001b[0;34m\u001b[0m\u001b[0m\n\u001b[1;32m   1601\u001b[0m         \u001b[0mbound\u001b[0m \u001b[0;34m=\u001b[0m \u001b[0mnew_sig\u001b[0m\u001b[0;34m.\u001b[0m\u001b[0mbind\u001b[0m\u001b[0;34m(\u001b[0m\u001b[0max\u001b[0m\u001b[0;34m,\u001b[0m \u001b[0;34m*\u001b[0m\u001b[0margs\u001b[0m\u001b[0;34m,\u001b[0m \u001b[0;34m**\u001b[0m\u001b[0mkwargs\u001b[0m\u001b[0;34m)\u001b[0m\u001b[0;34m\u001b[0m\u001b[0;34m\u001b[0m\u001b[0m\n",
      "\u001b[0;32m~/anaconda3/lib/python3.7/site-packages/matplotlib/axes/_axes.py\u001b[0m in \u001b[0;36mscatter\u001b[0;34m(self, x, y, s, c, marker, cmap, norm, vmin, vmax, alpha, linewidths, verts, edgecolors, plotnonfinite, **kwargs)\u001b[0m\n\u001b[1;32m   4478\u001b[0m             \u001b[0mmarker_obj\u001b[0m \u001b[0;34m=\u001b[0m \u001b[0mmarker\u001b[0m\u001b[0;34m\u001b[0m\u001b[0;34m\u001b[0m\u001b[0m\n\u001b[1;32m   4479\u001b[0m         \u001b[0;32melse\u001b[0m\u001b[0;34m:\u001b[0m\u001b[0;34m\u001b[0m\u001b[0;34m\u001b[0m\u001b[0m\n\u001b[0;32m-> 4480\u001b[0;31m             \u001b[0mmarker_obj\u001b[0m \u001b[0;34m=\u001b[0m \u001b[0mmmarkers\u001b[0m\u001b[0;34m.\u001b[0m\u001b[0mMarkerStyle\u001b[0m\u001b[0;34m(\u001b[0m\u001b[0mmarker\u001b[0m\u001b[0;34m)\u001b[0m\u001b[0;34m\u001b[0m\u001b[0;34m\u001b[0m\u001b[0m\n\u001b[0m\u001b[1;32m   4481\u001b[0m \u001b[0;34m\u001b[0m\u001b[0m\n\u001b[1;32m   4482\u001b[0m         path = marker_obj.get_path().transformed(\n",
      "\u001b[0;32m~/anaconda3/lib/python3.7/site-packages/matplotlib/markers.py\u001b[0m in \u001b[0;36m__init__\u001b[0;34m(self, marker, fillstyle)\u001b[0m\n\u001b[1;32m    241\u001b[0m         \u001b[0mself\u001b[0m\u001b[0;34m.\u001b[0m\u001b[0m_marker_function\u001b[0m \u001b[0;34m=\u001b[0m \u001b[0;32mNone\u001b[0m\u001b[0;34m\u001b[0m\u001b[0;34m\u001b[0m\u001b[0m\n\u001b[1;32m    242\u001b[0m         \u001b[0mself\u001b[0m\u001b[0;34m.\u001b[0m\u001b[0mset_fillstyle\u001b[0m\u001b[0;34m(\u001b[0m\u001b[0mfillstyle\u001b[0m\u001b[0;34m)\u001b[0m\u001b[0;34m\u001b[0m\u001b[0;34m\u001b[0m\u001b[0m\n\u001b[0;32m--> 243\u001b[0;31m         \u001b[0mself\u001b[0m\u001b[0;34m.\u001b[0m\u001b[0mset_marker\u001b[0m\u001b[0;34m(\u001b[0m\u001b[0mmarker\u001b[0m\u001b[0;34m)\u001b[0m\u001b[0;34m\u001b[0m\u001b[0;34m\u001b[0m\u001b[0m\n\u001b[0m\u001b[1;32m    244\u001b[0m \u001b[0;34m\u001b[0m\u001b[0m\n\u001b[1;32m    245\u001b[0m     \u001b[0;32mdef\u001b[0m \u001b[0m_recache\u001b[0m\u001b[0;34m(\u001b[0m\u001b[0mself\u001b[0m\u001b[0;34m)\u001b[0m\u001b[0;34m:\u001b[0m\u001b[0;34m\u001b[0m\u001b[0;34m\u001b[0m\u001b[0m\n",
      "\u001b[0;32m~/anaconda3/lib/python3.7/site-packages/matplotlib/markers.py\u001b[0m in \u001b[0;36mset_marker\u001b[0;34m(self, marker)\u001b[0m\n\u001b[1;32m    311\u001b[0m             \u001b[0;32mexcept\u001b[0m \u001b[0mValueError\u001b[0m\u001b[0;34m:\u001b[0m\u001b[0;34m\u001b[0m\u001b[0;34m\u001b[0m\u001b[0m\n\u001b[1;32m    312\u001b[0m                 raise ValueError('Unrecognized marker style {!r}'\n\u001b[0;32m--> 313\u001b[0;31m                                  .format(marker))\n\u001b[0m\u001b[1;32m    314\u001b[0m \u001b[0;34m\u001b[0m\u001b[0m\n\u001b[1;32m    315\u001b[0m         \u001b[0mself\u001b[0m\u001b[0;34m.\u001b[0m\u001b[0m_marker\u001b[0m \u001b[0;34m=\u001b[0m \u001b[0mmarker\u001b[0m\u001b[0;34m\u001b[0m\u001b[0;34m\u001b[0m\u001b[0m\n",
      "\u001b[0;31mValueError\u001b[0m: Unrecognized marker style array([], shape=(44, 0), dtype=float64)"
     ]
    },
    {
     "data": {
      "image/png": "[encoded data removed]",
      "text/plain": [
       "<Figure size 432x288 with 1 Axes>"
      ]
     },
     "metadata": {},
     "output_type": "display_data"
    }
   ],
   "source": [
    "plot_clustering(x, centroids, assignments)"
   ]
  },
  {
   "cell_type": "code",
   "execution_count": null,
   "metadata": {},
   "outputs": [],
   "source": []
  }
 ],
 "metadata": {
  "kernelspec": {
   "display_name": "Python 3",
   "language": "python",
   "name": "python3"
  },
  "language_info": {
   "codemirror_mode": {
    "name": "ipython",
    "version": 3
   },
   "file_extension": ".py",
   "mimetype": "text/x-python",
   "name": "python",
   "nbconvert_exporter": "python",
   "pygments_lexer": "ipython3",
   "version": "3.7.3"
  }
 },
 "nbformat": 4,
 "nbformat_minor": 4
}
